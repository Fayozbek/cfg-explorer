{
 "cells": [
  {
   "cell_type": "markdown",
   "metadata": {},
   "source": [
    "# Demo for functional usage of CFG-explorer\n",
    "\n",
    "Now, `cfg-explorer` can not only be used as a command line tool. We can also call it within a Python program.\n",
    "\n",
    "## Download Spec CPU Benchmark 2006\n",
    "\n",
    "Save the suite outside our current repository:\n",
    "\n",
    "```\n",
    "$ cd ..\n",
    "$ git clone https://github.com/Multi2Sim/m2s-bench-spec2006\n",
    "```\n",
    "\n",
    "Every `.i386` file is a binary file for testing.\n",
    "\n",
    "## Import Libraries\n",
    "\n",
    "First, to import `cfg_explore` in this subdirectory, you should include your `cfg-explorer` path into your `PATH` environment variable. You can do this by (suppose the whole `cfg-explorer` directory is located in `$HOME/cfg-explorer`):\n",
    "\n",
    "```\n",
    "$ export PATH=$HOME/cfg-explorer:$PATH\n",
    "```\n",
    "\n",
    "Or import it in this notebook by such an approach for that the target folder is actually the parent folder of this file:"
   ]
  },
  {
   "cell_type": "code",
   "execution_count": 1,
   "metadata": {
    "ExecuteTime": {
     "end_time": "2020-07-26T12:01:53.550370Z",
     "start_time": "2020-07-26T12:01:53.545132Z"
    }
   },
   "outputs": [],
   "source": [
    "import os\n",
    "import sys\n",
    "from pathlib import Path\n",
    "\n",
    "sys.path.insert(0,str(Path().resolve().parent))"
   ]
  },
  {
   "cell_type": "markdown",
   "metadata": {},
   "source": [
    "##  Usages of `cfg_explore` Function"
   ]
  },
  {
   "cell_type": "code",
   "execution_count": 2,
   "metadata": {
    "ExecuteTime": {
     "end_time": "2020-07-26T12:02:05.750887Z",
     "start_time": "2020-07-26T12:02:02.967104Z"
    },
    "scrolled": true
   },
   "outputs": [],
   "source": [
    "from cfgexplorer import cfg_explore"
   ]
  },
  {
   "cell_type": "markdown",
   "metadata": {},
   "source": [
    "### Lanuch an interactive web app\n",
    "\n",
    "Now, call `cfg_explore` with the only argument `binary`, which is the path of the bianry file we prepare to analysis. After running, it will host a website on http://127.0.0.1:5050/ to show the *control flow graph* of the file. You can specify the port by `port` parameter."
   ]
  },
  {
   "cell_type": "code",
   "execution_count": 3,
   "metadata": {
    "ExecuteTime": {
     "end_time": "2020-07-26T12:02:13.741470Z",
     "start_time": "2020-07-26T12:02:08.670982Z"
    }
   },
   "outputs": [
    {
     "name": "stderr",
     "output_type": "stream",
     "text": [
      "WARNING | 2020-07-26 08:02:08,727 | \u001b[34mangr.analyses.cfg.cfg_fast\u001b[0m | \u001b[34m\"collect_data_references\" is deprecated and will be removed soon. Please use \"data_references\" instead\u001b[0m\n",
      "100% |###################################| Elapsed Time: 0:00:00 Time:  0:00:00\n"
     ]
    },
    {
     "name": "stdout",
     "output_type": "stream",
     "text": [
      " * Serving Flask app \"cfgexplorer.explorer\" (lazy loading)\n",
      " * Environment: production\n",
      "\u001b[31m   WARNING: This is a development server. Do not use it in a production deployment.\u001b[0m\n",
      "\u001b[2m   Use a production WSGI server instead.\u001b[0m\n",
      " * Debug mode: on\n"
     ]
    },
    {
     "name": "stderr",
     "output_type": "stream",
     "text": [
      "INFO    | 2020-07-26 08:02:08,912 | \u001b[33mwerkzeug\u001b[0m | \u001b[33m * Running on http://127.0.0.1:5050/ (Press CTRL+C to quit)\u001b[0m\n"
     ]
    }
   ],
   "source": [
    "cfg_explore(binary='../../m2s-bench-spec2006/999.specrand/specrand_base.i386')"
   ]
  },
  {
   "cell_type": "markdown",
   "metadata": {},
   "source": [
    "Whenever you want to shut down the app, just interrupt the function. For example, in this notebook, click on <kbd>interrupt the kernel</kbd>buttom on the toolbar."
   ]
  },
  {
   "cell_type": "markdown",
   "metadata": {
    "ExecuteTime": {
     "end_time": "2020-07-26T04:22:21.911083Z",
     "start_time": "2020-07-26T04:22:21.906404Z"
    }
   },
   "source": [
    "### Export raw `.dot` files"
   ]
  },
  {
   "cell_type": "code",
   "execution_count": 4,
   "metadata": {
    "ExecuteTime": {
     "end_time": "2020-07-26T12:02:20.890774Z",
     "start_time": "2020-07-26T12:02:20.622349Z"
    }
   },
   "outputs": [
    {
     "name": "stderr",
     "output_type": "stream",
     "text": [
      "WARNING | 2020-07-26 08:02:20,678 | \u001b[34mangr.analyses.cfg.cfg_fast\u001b[0m | \u001b[34m\"collect_data_references\" is deprecated and will be removed soon. Please use \"data_references\" instead\u001b[0m\n",
      "100% |###################################| Elapsed Time: 0:00:00 Time:  0:00:00\n"
     ]
    }
   ],
   "source": [
    "cfg_explore(binary='../../m2s-bench-spec2006/999.specrand/specrand_base.i386',output='test.dot')"
   ]
  },
  {
   "cell_type": "markdown",
   "metadata": {
    "ExecuteTime": {
     "end_time": "2020-07-26T04:34:14.579539Z",
     "start_time": "2020-07-26T04:34:14.566410Z"
    }
   },
   "source": [
    "`.dot` file can be converted to image format, for example, if you have installed `graphviz` in your machine, try this command:"
   ]
  },
  {
   "cell_type": "code",
   "execution_count": 5,
   "metadata": {
    "ExecuteTime": {
     "end_time": "2020-07-26T12:02:27.158308Z",
     "start_time": "2020-07-26T12:02:25.929750Z"
    }
   },
   "outputs": [],
   "source": [
    "!dot test.dot -Tpng -o test.png"
   ]
  },
  {
   "cell_type": "markdown",
   "metadata": {},
   "source": [
    "![](test.png)"
   ]
  },
  {
   "cell_type": "markdown",
   "metadata": {},
   "source": [
    "### Export `.svg` files\n",
    "\n",
    "You can also specify the `output` argument with `.svg` suffix, and you will get the same graph as what you see in the web app without `output` [before](#Lanuch-an-interactive-web-app)"
   ]
  },
  {
   "cell_type": "code",
   "execution_count": 6,
   "metadata": {
    "ExecuteTime": {
     "end_time": "2020-07-26T12:02:44.792904Z",
     "start_time": "2020-07-26T12:02:44.455225Z"
    }
   },
   "outputs": [
    {
     "name": "stderr",
     "output_type": "stream",
     "text": [
      "WARNING | 2020-07-26 08:02:44,514 | \u001b[34mangr.analyses.cfg.cfg_fast\u001b[0m | \u001b[34m\"collect_data_references\" is deprecated and will be removed soon. Please use \"data_references\" instead\u001b[0m\n",
      "100% |###################################| Elapsed Time: 0:00:00 Time:  0:00:00\n"
     ]
    }
   ],
   "source": [
    "cfg_explore(binary='../../m2s-bench-spec2006/999.specrand/specrand_base.i386',output='./test.svg')"
   ]
  },
  {
   "cell_type": "markdown",
   "metadata": {},
   "source": [
    "`.svg` files can be opened by web-browser directly, it can also be displayed in this notebook:"
   ]
  },
  {
   "cell_type": "code",
   "execution_count": 7,
   "metadata": {
    "ExecuteTime": {
     "end_time": "2020-07-26T12:02:50.473720Z",
     "start_time": "2020-07-26T12:02:50.415108Z"
    }
   },
   "outputs": [
    {
     "data": {
      "image/svg+xml": [
       "<svg height=\"2181pt\" viewBox=\"0.00 0.00 858.50 2181.00\" width=\"859pt\" xmlns=\"http://www.w3.org/2000/svg\" xmlns:xlink=\"http://www.w3.org/1999/xlink\">\n",
       "<g class=\"graph\" id=\"graph0\" transform=\"scale(1 1) rotate(0) translate(4 2177)\">\n",
       "<polygon fill=\"white\" points=\"-4,4 -4,-2177 854.5,-2177 854.5,4 -4,4\" stroke=\"transparent\"/>\n",
       "<!-- 1 -->\n",
       "<g class=\"node\" id=\"node1\">\n",
       "<title>1</title>\n",
       "<path d=\"M435.5,-2009.5C435.5,-2009.5 668.5,-2009.5 668.5,-2009.5 674.5,-2009.5 680.5,-2015.5 680.5,-2021.5 680.5,-2021.5 680.5,-2160.5 680.5,-2160.5 680.5,-2166.5 674.5,-2172.5 668.5,-2172.5 668.5,-2172.5 435.5,-2172.5 435.5,-2172.5 429.5,-2172.5 423.5,-2166.5 423.5,-2160.5 423.5,-2160.5 423.5,-2021.5 423.5,-2021.5 423.5,-2015.5 429.5,-2009.5 435.5,-2009.5\" fill=\"none\" stroke=\"black\"/>\n",
       "<text font-family=\"monospace\" font-size=\"8.00\" text-anchor=\"start\" x=\"484\" y=\"-2158.6\">0x80483a0</text>\n",
       "<text font-family=\"monospace\" font-size=\"8.00\" text-anchor=\"start\" x=\"536\" y=\"-2158.6\">(0x80483a0)</text>\n",
       "<text font-family=\"monospace\" font-size=\"8.00\" font-weight=\"bold\" text-anchor=\"start\" x=\"598\" y=\"-2159.6\">main</text>\n",
       "<polyline fill=\"none\" points=\"423.5,-2149.5 680.5,-2149.5 \" stroke=\"black\"/>\n",
       "<text font-family=\"monospace\" font-size=\"8.00\" text-anchor=\"start\" x=\"435\" y=\"-2136.1\">0x080483a0: </text>\n",
       "<text font-family=\"monospace\" font-size=\"8.00\" text-anchor=\"start\" x=\"503\" y=\"-2136.1\">push</text>\n",
       "<text font-family=\"monospace\" font-size=\"8.00\" text-anchor=\"start\" x=\"529\" y=\"-2136.1\">ebp</text>\n",
       "<text font-family=\"monospace\" font-size=\"8.00\" text-anchor=\"start\" x=\"435\" y=\"-2123.1\">0x080483a1: </text>\n",
       "<text font-family=\"monospace\" font-size=\"8.00\" text-anchor=\"start\" x=\"503\" y=\"-2123.1\">mov</text>\n",
       "<text font-family=\"monospace\" font-size=\"8.00\" text-anchor=\"start\" x=\"529\" y=\"-2123.1\">ebp, esp</text>\n",
       "<text font-family=\"monospace\" font-size=\"8.00\" text-anchor=\"start\" x=\"435\" y=\"-2110.1\">0x080483a3: </text>\n",
       "<text font-family=\"monospace\" font-size=\"8.00\" text-anchor=\"start\" x=\"503\" y=\"-2110.1\">push</text>\n",
       "<text font-family=\"monospace\" font-size=\"8.00\" text-anchor=\"start\" x=\"529\" y=\"-2110.1\">edi</text>\n",
       "<text font-family=\"monospace\" font-size=\"8.00\" text-anchor=\"start\" x=\"435\" y=\"-2097.1\">0x080483a4: </text>\n",
       "<text font-family=\"monospace\" font-size=\"8.00\" text-anchor=\"start\" x=\"503\" y=\"-2097.1\">push</text>\n",
       "<text font-family=\"monospace\" font-size=\"8.00\" text-anchor=\"start\" x=\"529\" y=\"-2097.1\">esi</text>\n",
       "<text font-family=\"monospace\" font-size=\"8.00\" text-anchor=\"start\" x=\"435\" y=\"-2084.1\">0x080483a5: </text>\n",
       "<text font-family=\"monospace\" font-size=\"8.00\" text-anchor=\"start\" x=\"503\" y=\"-2084.1\">push</text>\n",
       "<text font-family=\"monospace\" font-size=\"8.00\" text-anchor=\"start\" x=\"529\" y=\"-2084.1\">ebx</text>\n",
       "<text font-family=\"monospace\" font-size=\"8.00\" text-anchor=\"start\" x=\"435\" y=\"-2071.1\">0x080483a6: </text>\n",
       "<text font-family=\"monospace\" font-size=\"8.00\" text-anchor=\"start\" x=\"503\" y=\"-2071.1\">and</text>\n",
       "<text font-family=\"monospace\" font-size=\"8.00\" text-anchor=\"start\" x=\"529\" y=\"-2071.1\">esp, 0xfffffff0</text>\n",
       "<text font-family=\"monospace\" font-size=\"8.00\" text-anchor=\"start\" x=\"435\" y=\"-2058.1\">0x080483a9: </text>\n",
       "<text font-family=\"monospace\" font-size=\"8.00\" text-anchor=\"start\" x=\"503\" y=\"-2058.1\">sub</text>\n",
       "<text font-family=\"monospace\" font-size=\"8.00\" text-anchor=\"start\" x=\"529\" y=\"-2058.1\">esp, 0x20</text>\n",
       "<text font-family=\"monospace\" font-size=\"8.00\" text-anchor=\"start\" x=\"435\" y=\"-2045.1\">0x080483ac: </text>\n",
       "<text font-family=\"monospace\" font-size=\"8.00\" text-anchor=\"start\" x=\"503\" y=\"-2045.1\">mov</text>\n",
       "<text font-family=\"monospace\" font-size=\"8.00\" text-anchor=\"start\" x=\"529\" y=\"-2045.1\">ebx, dword ptr [ebp + 0xc]</text>\n",
       "<text font-family=\"monospace\" font-size=\"8.00\" text-anchor=\"start\" x=\"435\" y=\"-2032.1\">0x080483af: </text>\n",
       "<text font-family=\"monospace\" font-size=\"8.00\" text-anchor=\"start\" x=\"503\" y=\"-2032.1\">cmp</text>\n",
       "<text font-family=\"monospace\" font-size=\"8.00\" text-anchor=\"start\" x=\"529\" y=\"-2032.1\">dword ptr [ebp + 8], 1</text>\n",
       "<text font-family=\"monospace\" font-size=\"8.00\" text-anchor=\"start\" x=\"435\" y=\"-2019.1\">0x080483b3: </text>\n",
       "<text font-family=\"monospace\" font-size=\"8.00\" text-anchor=\"start\" x=\"503\" y=\"-2019.1\">jle</text>\n",
       "<text font-family=\"monospace\" font-size=\"8.00\" text-anchor=\"start\" x=\"529\" y=\"-2019.1\">0x80484ca</text>\n",
       "</g>\n",
       "<!-- 14 -->\n",
       "<g class=\"node\" id=\"node2\">\n",
       "<title>14</title>\n",
       "<g id=\"a_node2\"><a xlink:href=\"/api/cfg/0x8048390\" xlink:title=\"Click to navigate to function 0x8048390\">\n",
       "<path d=\"M265,-1874.5C265,-1874.5 531,-1874.5 531,-1874.5 537,-1874.5 543,-1880.5 543,-1886.5 543,-1886.5 543,-1960.5 543,-1960.5 543,-1966.5 537,-1972.5 531,-1972.5 531,-1972.5 265,-1972.5 265,-1972.5 259,-1972.5 253,-1966.5 253,-1960.5 253,-1960.5 253,-1886.5 253,-1886.5 253,-1880.5 259,-1874.5 265,-1874.5\" fill=\"none\" stroke=\"black\"/>\n",
       "<text font-family=\"monospace\" font-size=\"8.00\" text-anchor=\"start\" x=\"318\" y=\"-1958.6\">0x80483b9</text>\n",
       "<text font-family=\"monospace\" font-size=\"8.00\" text-anchor=\"start\" x=\"370\" y=\"-1958.6\">(0x80483a0)</text>\n",
       "<text font-family=\"monospace\" font-size=\"8.00\" font-weight=\"bold\" text-anchor=\"start\" x=\"432\" y=\"-1959.6\">main+0x19</text>\n",
       "<polyline fill=\"none\" points=\"253,-1949.5 543,-1949.5 \" stroke=\"black\"/>\n",
       "<text font-family=\"monospace\" font-size=\"8.00\" text-anchor=\"start\" x=\"264\" y=\"-1935.6\">0x080483b9: </text>\n",
       "<text font-family=\"monospace\" font-size=\"8.00\" text-anchor=\"start\" x=\"332\" y=\"-1935.6\">mov</text>\n",
       "<text font-family=\"monospace\" font-size=\"8.00\" text-anchor=\"start\" x=\"358\" y=\"-1935.6\">dword ptr [esp + 8], 0xa</text>\n",
       "<text font-family=\"monospace\" font-size=\"8.00\" text-anchor=\"start\" x=\"264\" y=\"-1922.6\">0x080483c1: </text>\n",
       "<text font-family=\"monospace\" font-size=\"8.00\" text-anchor=\"start\" x=\"332\" y=\"-1922.6\">mov</text>\n",
       "<text font-family=\"monospace\" font-size=\"8.00\" text-anchor=\"start\" x=\"358\" y=\"-1922.6\">dword ptr [esp + 4], 0</text>\n",
       "<text font-family=\"monospace\" font-size=\"8.00\" text-anchor=\"start\" x=\"264\" y=\"-1909.6\">0x080483c9: </text>\n",
       "<text font-family=\"monospace\" font-size=\"8.00\" text-anchor=\"start\" x=\"332\" y=\"-1909.6\">mov</text>\n",
       "<text font-family=\"monospace\" font-size=\"8.00\" text-anchor=\"start\" x=\"358\" y=\"-1909.6\">eax, dword ptr [ebx + 4]</text>\n",
       "<text font-family=\"monospace\" font-size=\"8.00\" text-anchor=\"start\" x=\"264\" y=\"-1896.6\">0x080483cc: </text>\n",
       "<text font-family=\"monospace\" font-size=\"8.00\" text-anchor=\"start\" x=\"332\" y=\"-1896.6\">mov</text>\n",
       "<text font-family=\"monospace\" font-size=\"8.00\" text-anchor=\"start\" x=\"358\" y=\"-1896.6\">dword ptr [esp], eax</text>\n",
       "<text font-family=\"monospace\" font-size=\"8.00\" text-anchor=\"start\" x=\"264\" y=\"-1883.6\">0x080483cf: </text>\n",
       "<text font-family=\"monospace\" font-size=\"8.00\" text-anchor=\"start\" x=\"332\" y=\"-1883.6\">call</text>\n",
       "<text font-family=\"monospace\" font-size=\"8.00\" text-anchor=\"start\" x=\"358\" y=\"-1883.6\">0x8048390</text>\n",
       "<text fill=\"gray\" font-family=\"monospace\" font-size=\"8.00\" text-anchor=\"start\" x=\"489\" y=\"-1883.6\">; strtol</text>\n",
       "</a>\n",
       "</g>\n",
       "</g>\n",
       "<!-- 1&#45;&gt;14 -->\n",
       "<g class=\"edge\" id=\"edge2\">\n",
       "<title>1-&gt;14</title>\n",
       "<path d=\"M476.8,-2009.19C467.65,-1999.35 458.46,-1989.47 449.75,-1980.11\" fill=\"none\" stroke=\"red\"/>\n",
       "<polygon fill=\"red\" points=\"452.25,-1977.67 442.88,-1972.73 447.13,-1982.44 452.25,-1977.67\" stroke=\"red\"/>\n",
       "</g>\n",
       "<!-- 13 -->\n",
       "<g class=\"node\" id=\"node19\">\n",
       "<title>13</title>\n",
       "<g id=\"a_node19\"><a xlink:href=\"/api/cfg/0x8048350\" xlink:title=\"Click to navigate to function 0x8048350\">\n",
       "<path d=\"M573.5,-1894C573.5,-1894 838.5,-1894 838.5,-1894 844.5,-1894 850.5,-1900 850.5,-1906 850.5,-1906 850.5,-1941 850.5,-1941 850.5,-1947 844.5,-1953 838.5,-1953 838.5,-1953 573.5,-1953 573.5,-1953 567.5,-1953 561.5,-1947 561.5,-1941 561.5,-1941 561.5,-1906 561.5,-1906 561.5,-1900 567.5,-1894 573.5,-1894\" fill=\"none\" stroke=\"black\"/>\n",
       "<text font-family=\"monospace\" font-size=\"8.00\" text-anchor=\"start\" x=\"624\" y=\"-1939.1\">0x80484ca</text>\n",
       "<text font-family=\"monospace\" font-size=\"8.00\" text-anchor=\"start\" x=\"676\" y=\"-1939.1\">(0x80483a0)</text>\n",
       "<text font-family=\"monospace\" font-size=\"8.00\" font-weight=\"bold\" text-anchor=\"start\" x=\"738\" y=\"-1940.1\">main+0x12a</text>\n",
       "<polyline fill=\"none\" points=\"561.5,-1930 850.5,-1930 \" stroke=\"black\"/>\n",
       "<text font-family=\"monospace\" font-size=\"8.00\" text-anchor=\"start\" x=\"573\" y=\"-1916.6\">0x080484ca: </text>\n",
       "<text font-family=\"monospace\" font-size=\"8.00\" text-anchor=\"start\" x=\"641\" y=\"-1916.6\">mov</text>\n",
       "<text font-family=\"monospace\" font-size=\"8.00\" text-anchor=\"start\" x=\"667\" y=\"-1916.6\">dword ptr [esp], 0x80486f0</text>\n",
       "<text font-family=\"monospace\" font-size=\"8.00\" text-anchor=\"start\" x=\"573\" y=\"-1903.6\">0x080484d1: </text>\n",
       "<text font-family=\"monospace\" font-size=\"8.00\" text-anchor=\"start\" x=\"641\" y=\"-1903.6\">call</text>\n",
       "<text font-family=\"monospace\" font-size=\"8.00\" text-anchor=\"start\" x=\"667\" y=\"-1903.6\">0x8048350</text>\n",
       "<text fill=\"gray\" font-family=\"monospace\" font-size=\"8.00\" text-anchor=\"start\" x=\"808\" y=\"-1903.6\">; puts</text>\n",
       "</a>\n",
       "</g>\n",
       "</g>\n",
       "<!-- 1&#45;&gt;13 -->\n",
       "<g class=\"edge\" id=\"edge1\">\n",
       "<title>1-&gt;13</title>\n",
       "<path d=\"M627.2,-2009.19C642.91,-1992.3 658.73,-1975.3 672.03,-1961.01\" fill=\"none\" stroke=\"green\"/>\n",
       "<polygon fill=\"green\" points=\"674.89,-1963.07 679.14,-1953.36 669.77,-1958.3 674.89,-1963.07\" stroke=\"green\"/>\n",
       "</g>\n",
       "<!-- 42 -->\n",
       "<g class=\"node\" id=\"node3\">\n",
       "<title>42</title>\n",
       "<g id=\"a_node3\"><a xlink:href=\"/api/cfg/0x8048390\" xlink:title=\"Click to navigate to function 0x8048390\">\n",
       "<path d=\"M265,-1726.5C265,-1726.5 531,-1726.5 531,-1726.5 537,-1726.5 543,-1732.5 543,-1738.5 543,-1738.5 543,-1825.5 543,-1825.5 543,-1831.5 537,-1837.5 531,-1837.5 531,-1837.5 265,-1837.5 265,-1837.5 259,-1837.5 253,-1831.5 253,-1825.5 253,-1825.5 253,-1738.5 253,-1738.5 253,-1732.5 259,-1726.5 265,-1726.5\" fill=\"none\" stroke=\"black\"/>\n",
       "<text font-family=\"monospace\" font-size=\"8.00\" text-anchor=\"start\" x=\"318\" y=\"-1823.6\">0x80483d4</text>\n",
       "<text font-family=\"monospace\" font-size=\"8.00\" text-anchor=\"start\" x=\"370\" y=\"-1823.6\">(0x80483a0)</text>\n",
       "<text font-family=\"monospace\" font-size=\"8.00\" font-weight=\"bold\" text-anchor=\"start\" x=\"432\" y=\"-1824.6\">main+0x34</text>\n",
       "<polyline fill=\"none\" points=\"253,-1814.5 543,-1814.5 \" stroke=\"black\"/>\n",
       "<text font-family=\"monospace\" font-size=\"8.00\" text-anchor=\"start\" x=\"264\" y=\"-1801.1\">0x080483d4: </text>\n",
       "<text font-family=\"monospace\" font-size=\"8.00\" text-anchor=\"start\" x=\"332\" y=\"-1801.1\">mov</text>\n",
       "<text font-family=\"monospace\" font-size=\"8.00\" text-anchor=\"start\" x=\"358\" y=\"-1801.1\">dword ptr [esp + 8], 0xa</text>\n",
       "<text font-family=\"monospace\" font-size=\"8.00\" text-anchor=\"start\" x=\"264\" y=\"-1788.1\">0x080483dc: </text>\n",
       "<text font-family=\"monospace\" font-size=\"8.00\" text-anchor=\"start\" x=\"332\" y=\"-1788.1\">mov</text>\n",
       "<text font-family=\"monospace\" font-size=\"8.00\" text-anchor=\"start\" x=\"358\" y=\"-1788.1\">dword ptr [esp + 4], 0</text>\n",
       "<text font-family=\"monospace\" font-size=\"8.00\" text-anchor=\"start\" x=\"264\" y=\"-1775.1\">0x080483e4: </text>\n",
       "<text font-family=\"monospace\" font-size=\"8.00\" text-anchor=\"start\" x=\"332\" y=\"-1775.1\">mov</text>\n",
       "<text font-family=\"monospace\" font-size=\"8.00\" text-anchor=\"start\" x=\"358\" y=\"-1775.1\">edi, eax</text>\n",
       "<text font-family=\"monospace\" font-size=\"8.00\" text-anchor=\"start\" x=\"264\" y=\"-1762.1\">0x080483e6: </text>\n",
       "<text font-family=\"monospace\" font-size=\"8.00\" text-anchor=\"start\" x=\"332\" y=\"-1762.1\">mov</text>\n",
       "<text font-family=\"monospace\" font-size=\"8.00\" text-anchor=\"start\" x=\"358\" y=\"-1762.1\">eax, dword ptr [ebx + 8]</text>\n",
       "<text font-family=\"monospace\" font-size=\"8.00\" text-anchor=\"start\" x=\"264\" y=\"-1749.1\">0x080483e9: </text>\n",
       "<text font-family=\"monospace\" font-size=\"8.00\" text-anchor=\"start\" x=\"332\" y=\"-1749.1\">mov</text>\n",
       "<text font-family=\"monospace\" font-size=\"8.00\" text-anchor=\"start\" x=\"358\" y=\"-1749.1\">dword ptr [esp], eax</text>\n",
       "<text font-family=\"monospace\" font-size=\"8.00\" text-anchor=\"start\" x=\"264\" y=\"-1736.1\">0x080483ec: </text>\n",
       "<text font-family=\"monospace\" font-size=\"8.00\" text-anchor=\"start\" x=\"332\" y=\"-1736.1\">call</text>\n",
       "<text font-family=\"monospace\" font-size=\"8.00\" text-anchor=\"start\" x=\"358\" y=\"-1736.1\">0x8048390</text>\n",
       "<text fill=\"gray\" font-family=\"monospace\" font-size=\"8.00\" text-anchor=\"start\" x=\"489\" y=\"-1736.1\">; strtol</text>\n",
       "</a>\n",
       "</g>\n",
       "</g>\n",
       "<!-- 14&#45;&gt;42 -->\n",
       "<g class=\"edge\" id=\"edge4\">\n",
       "<title>14-&gt;42</title>\n",
       "<path d=\"M398,-1874.49C398,-1865.9 398,-1856.82 398,-1847.85\" fill=\"none\" stroke=\"gray\" stroke-dasharray=\"1,5\"/>\n",
       "<polygon fill=\"gray\" points=\"401.5,-1847.81 398,-1837.81 394.5,-1847.81 401.5,-1847.81\" stroke=\"gray\"/>\n",
       "</g>\n",
       "<!-- 43 -->\n",
       "<g class=\"node\" id=\"node4\">\n",
       "<title>43</title>\n",
       "<g id=\"a_node4\"><a xlink:href=\"/api/cfg/0x8048380\" xlink:title=\"Click to navigate to function 0x8048380\">\n",
       "<path d=\"M234,-1578.5C234,-1578.5 562,-1578.5 562,-1578.5 568,-1578.5 574,-1584.5 574,-1590.5 574,-1590.5 574,-1677.5 574,-1677.5 574,-1683.5 568,-1689.5 562,-1689.5 562,-1689.5 234,-1689.5 234,-1689.5 228,-1689.5 222,-1683.5 222,-1677.5 222,-1677.5 222,-1590.5 222,-1590.5 222,-1584.5 228,-1578.5 234,-1578.5\" fill=\"none\" stroke=\"black\"/>\n",
       "<text font-family=\"monospace\" font-size=\"8.00\" text-anchor=\"start\" x=\"318\" y=\"-1675.6\">0x80483f1</text>\n",
       "<text font-family=\"monospace\" font-size=\"8.00\" text-anchor=\"start\" x=\"370\" y=\"-1675.6\">(0x80483a0)</text>\n",
       "<text font-family=\"monospace\" font-size=\"8.00\" font-weight=\"bold\" text-anchor=\"start\" x=\"432\" y=\"-1676.6\">main+0x51</text>\n",
       "<polyline fill=\"none\" points=\"222,-1666.5 574,-1666.5 \" stroke=\"black\"/>\n",
       "<text font-family=\"monospace\" font-size=\"8.00\" text-anchor=\"start\" x=\"233\" y=\"-1653.1\">0x080483f1: </text>\n",
       "<text font-family=\"monospace\" font-size=\"8.00\" text-anchor=\"start\" x=\"301\" y=\"-1653.1\">mov</text>\n",
       "<text font-family=\"monospace\" font-size=\"8.00\" text-anchor=\"start\" x=\"327\" y=\"-1653.1\">dword ptr [esp + 8], edi</text>\n",
       "<text font-family=\"monospace\" font-size=\"8.00\" text-anchor=\"start\" x=\"233\" y=\"-1640.1\">0x080483f5: </text>\n",
       "<text font-family=\"monospace\" font-size=\"8.00\" text-anchor=\"start\" x=\"301\" y=\"-1640.1\">mov</text>\n",
       "<text font-family=\"monospace\" font-size=\"8.00\" text-anchor=\"start\" x=\"327\" y=\"-1640.1\">dword ptr [esp + 4], 0x804870d</text>\n",
       "<text font-family=\"monospace\" font-size=\"8.00\" text-anchor=\"start\" x=\"233\" y=\"-1627.1\">0x080483fd: </text>\n",
       "<text font-family=\"monospace\" font-size=\"8.00\" text-anchor=\"start\" x=\"301\" y=\"-1627.1\">mov</text>\n",
       "<text font-family=\"monospace\" font-size=\"8.00\" text-anchor=\"start\" x=\"327\" y=\"-1627.1\">dword ptr [esp], 1</text>\n",
       "<text font-family=\"monospace\" font-size=\"8.00\" text-anchor=\"start\" x=\"233\" y=\"-1614.1\">0x08048404: </text>\n",
       "<text font-family=\"monospace\" font-size=\"8.00\" text-anchor=\"start\" x=\"301\" y=\"-1614.1\">mov</text>\n",
       "<text font-family=\"monospace\" font-size=\"8.00\" text-anchor=\"start\" x=\"327\" y=\"-1614.1\">dword ptr [esp + 0xc], eax</text>\n",
       "<text font-family=\"monospace\" font-size=\"8.00\" text-anchor=\"start\" x=\"233\" y=\"-1601.1\">0x08048408: </text>\n",
       "<text font-family=\"monospace\" font-size=\"8.00\" text-anchor=\"start\" x=\"301\" y=\"-1601.1\">mov</text>\n",
       "<text font-family=\"monospace\" font-size=\"8.00\" text-anchor=\"start\" x=\"327\" y=\"-1601.1\">esi, eax</text>\n",
       "<text font-family=\"monospace\" font-size=\"8.00\" text-anchor=\"start\" x=\"233\" y=\"-1588.1\">0x0804840a: </text>\n",
       "<text font-family=\"monospace\" font-size=\"8.00\" text-anchor=\"start\" x=\"301\" y=\"-1588.1\">call</text>\n",
       "<text font-family=\"monospace\" font-size=\"8.00\" text-anchor=\"start\" x=\"327\" y=\"-1588.1\">0x8048380</text>\n",
       "<text fill=\"gray\" font-family=\"monospace\" font-size=\"8.00\" text-anchor=\"start\" x=\"489\" y=\"-1588.1\">; __printf_chk</text>\n",
       "</a>\n",
       "</g>\n",
       "</g>\n",
       "<!-- 42&#45;&gt;43 -->\n",
       "<g class=\"edge\" id=\"edge5\">\n",
       "<title>42-&gt;43</title>\n",
       "<path d=\"M398,-1726.22C398,-1717.61 398,-1708.64 398,-1699.84\" fill=\"none\" stroke=\"gray\" stroke-dasharray=\"1,5\"/>\n",
       "<polygon fill=\"gray\" points=\"401.5,-1699.6 398,-1689.6 394.5,-1699.6 401.5,-1699.6\" stroke=\"gray\"/>\n",
       "</g>\n",
       "<!-- 48 -->\n",
       "<g class=\"node\" id=\"node5\">\n",
       "<title>48</title>\n",
       "<g id=\"a_node5\"><a xlink:href=\"/api/cfg/0x8048380\" xlink:title=\"Click to navigate to function 0x8048380\">\n",
       "<path d=\"M234,-1469.5C234,-1469.5 562,-1469.5 562,-1469.5 568,-1469.5 574,-1475.5 574,-1481.5 574,-1481.5 574,-1529.5 574,-1529.5 574,-1535.5 568,-1541.5 562,-1541.5 562,-1541.5 234,-1541.5 234,-1541.5 228,-1541.5 222,-1535.5 222,-1529.5 222,-1529.5 222,-1481.5 222,-1481.5 222,-1475.5 228,-1469.5 234,-1469.5\" fill=\"none\" stroke=\"black\"/>\n",
       "<text font-family=\"monospace\" font-size=\"8.00\" text-anchor=\"start\" x=\"319\" y=\"-1527.6\">0x804840f</text>\n",
       "<text font-family=\"monospace\" font-size=\"8.00\" text-anchor=\"start\" x=\"371\" y=\"-1527.6\">(0x80483a0)</text>\n",
       "<text font-family=\"monospace\" font-size=\"8.00\" font-weight=\"bold\" text-anchor=\"start\" x=\"433\" y=\"-1528.6\">main+0x6f</text>\n",
       "<polyline fill=\"none\" points=\"222,-1518.5 574,-1518.5 \" stroke=\"black\"/>\n",
       "<text font-family=\"monospace\" font-size=\"8.00\" text-anchor=\"start\" x=\"233\" y=\"-1504.6\">0x0804840f: </text>\n",
       "<text font-family=\"monospace\" font-size=\"8.00\" text-anchor=\"start\" x=\"301\" y=\"-1504.6\">mov</text>\n",
       "<text font-family=\"monospace\" font-size=\"8.00\" text-anchor=\"start\" x=\"327\" y=\"-1504.6\">dword ptr [esp + 4], 0x8048723</text>\n",
       "<text font-family=\"monospace\" font-size=\"8.00\" text-anchor=\"start\" x=\"233\" y=\"-1491.6\">0x08048417: </text>\n",
       "<text font-family=\"monospace\" font-size=\"8.00\" text-anchor=\"start\" x=\"301\" y=\"-1491.6\">mov</text>\n",
       "<text font-family=\"monospace\" font-size=\"8.00\" text-anchor=\"start\" x=\"327\" y=\"-1491.6\">dword ptr [esp], 1</text>\n",
       "<text font-family=\"monospace\" font-size=\"8.00\" text-anchor=\"start\" x=\"233\" y=\"-1478.6\">0x0804841e: </text>\n",
       "<text font-family=\"monospace\" font-size=\"8.00\" text-anchor=\"start\" x=\"301\" y=\"-1478.6\">call</text>\n",
       "<text font-family=\"monospace\" font-size=\"8.00\" text-anchor=\"start\" x=\"327\" y=\"-1478.6\">0x8048380</text>\n",
       "<text fill=\"gray\" font-family=\"monospace\" font-size=\"8.00\" text-anchor=\"start\" x=\"489\" y=\"-1478.6\">; __printf_chk</text>\n",
       "</a>\n",
       "</g>\n",
       "</g>\n",
       "<!-- 43&#45;&gt;48 -->\n",
       "<g class=\"edge\" id=\"edge6\">\n",
       "<title>43-&gt;48</title>\n",
       "<path d=\"M398,-1578.25C398,-1569.42 398,-1560.37 398,-1551.79\" fill=\"none\" stroke=\"gray\" stroke-dasharray=\"1,5\"/>\n",
       "<polygon fill=\"gray\" points=\"401.5,-1551.62 398,-1541.62 394.5,-1551.62 401.5,-1551.62\" stroke=\"gray\"/>\n",
       "</g>\n",
       "<!-- 49 -->\n",
       "<g class=\"node\" id=\"node6\">\n",
       "<title>49</title>\n",
       "<g id=\"a_node6\"><a xlink:href=\"/api/cfg/0x80485f0\" xlink:title=\"Click to navigate to function 0x80485f0\">\n",
       "<path d=\"M265,-1373.5C265,-1373.5 531,-1373.5 531,-1373.5 537,-1373.5 543,-1379.5 543,-1385.5 543,-1385.5 543,-1420.5 543,-1420.5 543,-1426.5 537,-1432.5 531,-1432.5 531,-1432.5 265,-1432.5 265,-1432.5 259,-1432.5 253,-1426.5 253,-1420.5 253,-1420.5 253,-1385.5 253,-1385.5 253,-1379.5 259,-1373.5 265,-1373.5\" fill=\"none\" stroke=\"black\"/>\n",
       "<text font-family=\"monospace\" font-size=\"8.00\" text-anchor=\"start\" x=\"318\" y=\"-1418.6\">0x8048423</text>\n",
       "<text font-family=\"monospace\" font-size=\"8.00\" text-anchor=\"start\" x=\"370\" y=\"-1418.6\">(0x80483a0)</text>\n",
       "<text font-family=\"monospace\" font-size=\"8.00\" font-weight=\"bold\" text-anchor=\"start\" x=\"432\" y=\"-1419.6\">main+0x83</text>\n",
       "<polyline fill=\"none\" points=\"253,-1409.5 543,-1409.5 \" stroke=\"black\"/>\n",
       "<text font-family=\"monospace\" font-size=\"8.00\" text-anchor=\"start\" x=\"264\" y=\"-1396.1\">0x08048423: </text>\n",
       "<text font-family=\"monospace\" font-size=\"8.00\" text-anchor=\"start\" x=\"332\" y=\"-1396.1\">mov</text>\n",
       "<text font-family=\"monospace\" font-size=\"8.00\" text-anchor=\"start\" x=\"358\" y=\"-1396.1\">dword ptr [esp], edi</text>\n",
       "<text font-family=\"monospace\" font-size=\"8.00\" text-anchor=\"start\" x=\"264\" y=\"-1383.1\">0x08048426: </text>\n",
       "<text font-family=\"monospace\" font-size=\"8.00\" text-anchor=\"start\" x=\"332\" y=\"-1383.1\">call</text>\n",
       "<text font-family=\"monospace\" font-size=\"8.00\" text-anchor=\"start\" x=\"358\" y=\"-1383.1\">0x80485f0</text>\n",
       "<text fill=\"gray\" font-family=\"monospace\" font-size=\"8.00\" text-anchor=\"start\" x=\"468\" y=\"-1383.1\">; spec_srand</text>\n",
       "</a>\n",
       "</g>\n",
       "</g>\n",
       "<!-- 48&#45;&gt;49 -->\n",
       "<g class=\"edge\" id=\"edge8\">\n",
       "<title>48-&gt;49</title>\n",
       "<path d=\"M398,-1469.35C398,-1460.72 398,-1451.45 398,-1442.67\" fill=\"none\" stroke=\"gray\" stroke-dasharray=\"1,5\"/>\n",
       "<polygon fill=\"gray\" points=\"401.5,-1442.66 398,-1432.66 394.5,-1442.66 401.5,-1442.66\" stroke=\"gray\"/>\n",
       "</g>\n",
       "<!-- 50 -->\n",
       "<g class=\"node\" id=\"node7\">\n",
       "<title>50</title>\n",
       "<path d=\"M319,-1277.5C319,-1277.5 477,-1277.5 477,-1277.5 483,-1277.5 489,-1283.5 489,-1289.5 489,-1289.5 489,-1324.5 489,-1324.5 489,-1330.5 483,-1336.5 477,-1336.5 477,-1336.5 319,-1336.5 319,-1336.5 313,-1336.5 307,-1330.5 307,-1324.5 307,-1324.5 307,-1289.5 307,-1289.5 307,-1283.5 313,-1277.5 319,-1277.5\" fill=\"none\" stroke=\"black\"/>\n",
       "<text font-family=\"monospace\" font-size=\"8.00\" text-anchor=\"start\" x=\"318\" y=\"-1322.6\">0x804842b</text>\n",
       "<text font-family=\"monospace\" font-size=\"8.00\" text-anchor=\"start\" x=\"370\" y=\"-1322.6\">(0x80483a0)</text>\n",
       "<text font-family=\"monospace\" font-size=\"8.00\" font-weight=\"bold\" text-anchor=\"start\" x=\"432\" y=\"-1323.6\">main+0x8b</text>\n",
       "<polyline fill=\"none\" points=\"307,-1313.5 489,-1313.5 \" stroke=\"black\"/>\n",
       "<text font-family=\"monospace\" font-size=\"8.00\" text-anchor=\"start\" x=\"325\" y=\"-1300.1\">0x0804842b: </text>\n",
       "<text font-family=\"monospace\" font-size=\"8.00\" text-anchor=\"start\" x=\"393\" y=\"-1300.1\">test</text>\n",
       "<text font-family=\"monospace\" font-size=\"8.00\" text-anchor=\"start\" x=\"419\" y=\"-1300.1\">esi, esi</text>\n",
       "<text font-family=\"monospace\" font-size=\"8.00\" text-anchor=\"start\" x=\"325\" y=\"-1287.1\">0x0804842d: </text>\n",
       "<text font-family=\"monospace\" font-size=\"8.00\" text-anchor=\"start\" x=\"393\" y=\"-1287.1\">jle</text>\n",
       "<text font-family=\"monospace\" font-size=\"8.00\" text-anchor=\"start\" x=\"419\" y=\"-1287.1\">0x80484dd</text>\n",
       "</g>\n",
       "<!-- 49&#45;&gt;50 -->\n",
       "<g class=\"edge\" id=\"edge9\">\n",
       "<title>49-&gt;50</title>\n",
       "<path d=\"M398,-1373.29C398,-1364.9 398,-1355.6 398,-1346.71\" fill=\"none\" stroke=\"gray\" stroke-dasharray=\"1,5\"/>\n",
       "<polygon fill=\"gray\" points=\"401.5,-1346.54 398,-1336.54 394.5,-1346.54 401.5,-1346.54\" stroke=\"gray\"/>\n",
       "</g>\n",
       "<!-- 85 -->\n",
       "<g class=\"node\" id=\"node8\">\n",
       "<title>85</title>\n",
       "<path d=\"M138,-1175C138,-1175 296,-1175 296,-1175 302,-1175 308,-1181 308,-1187 308,-1187 308,-1222 308,-1222 308,-1228 302,-1234 296,-1234 296,-1234 138,-1234 138,-1234 132,-1234 126,-1228 126,-1222 126,-1222 126,-1187 126,-1187 126,-1181 132,-1175 138,-1175\" fill=\"none\" stroke=\"black\"/>\n",
       "<text font-family=\"monospace\" font-size=\"8.00\" text-anchor=\"start\" x=\"137\" y=\"-1220.1\">0x8048433</text>\n",
       "<text font-family=\"monospace\" font-size=\"8.00\" text-anchor=\"start\" x=\"189\" y=\"-1220.1\">(0x80483a0)</text>\n",
       "<text font-family=\"monospace\" font-size=\"8.00\" font-weight=\"bold\" text-anchor=\"start\" x=\"251\" y=\"-1221.1\">main+0x93</text>\n",
       "<polyline fill=\"none\" points=\"126,-1211 308,-1211 \" stroke=\"black\"/>\n",
       "<text font-family=\"monospace\" font-size=\"8.00\" text-anchor=\"start\" x=\"145\" y=\"-1197.6\">0x08048433: </text>\n",
       "<text font-family=\"monospace\" font-size=\"8.00\" text-anchor=\"start\" x=\"213\" y=\"-1197.6\">xor</text>\n",
       "<text font-family=\"monospace\" font-size=\"8.00\" text-anchor=\"start\" x=\"233\" y=\"-1197.6\">ebx, ebx</text>\n",
       "<text font-family=\"monospace\" font-size=\"8.00\" text-anchor=\"start\" x=\"145\" y=\"-1184.6\">0x08048435: </text>\n",
       "<text font-family=\"monospace\" font-size=\"8.00\" text-anchor=\"start\" x=\"213\" y=\"-1184.6\">lea</text>\n",
       "<text font-family=\"monospace\" font-size=\"8.00\" text-anchor=\"start\" x=\"233\" y=\"-1184.6\">esi, [esi]</text>\n",
       "</g>\n",
       "<!-- 50&#45;&gt;85 -->\n",
       "<g class=\"edge\" id=\"edge11\">\n",
       "<title>50-&gt;85</title>\n",
       "<path d=\"M346.62,-1277.47C325.03,-1265.48 299.76,-1251.45 277.29,-1238.98\" fill=\"none\" stroke=\"red\"/>\n",
       "<polygon fill=\"red\" points=\"278.95,-1235.9 268.51,-1234.1 275.56,-1242.02 278.95,-1235.9\" stroke=\"red\"/>\n",
       "</g>\n",
       "<!-- 51 -->\n",
       "<g class=\"node\" id=\"node21\">\n",
       "<title>51</title>\n",
       "<g id=\"a_node21\"><a xlink:href=\"/api/cfg/0x8048380\" xlink:title=\"Click to navigate to function 0x8048380\">\n",
       "<path d=\"M338,-1168.5C338,-1168.5 666,-1168.5 666,-1168.5 672,-1168.5 678,-1174.5 678,-1180.5 678,-1180.5 678,-1228.5 678,-1228.5 678,-1234.5 672,-1240.5 666,-1240.5 666,-1240.5 338,-1240.5 338,-1240.5 332,-1240.5 326,-1234.5 326,-1228.5 326,-1228.5 326,-1180.5 326,-1180.5 326,-1174.5 332,-1168.5 338,-1168.5\" fill=\"none\" stroke=\"black\"/>\n",
       "<text font-family=\"monospace\" font-size=\"8.00\" text-anchor=\"start\" x=\"420\" y=\"-1226.6\">0x80484dd</text>\n",
       "<text font-family=\"monospace\" font-size=\"8.00\" text-anchor=\"start\" x=\"472\" y=\"-1226.6\">(0x80483a0)</text>\n",
       "<text font-family=\"monospace\" font-size=\"8.00\" font-weight=\"bold\" text-anchor=\"start\" x=\"534\" y=\"-1227.6\">main+0x13d</text>\n",
       "<polyline fill=\"none\" points=\"326,-1217.5 678,-1217.5 \" stroke=\"black\"/>\n",
       "<text font-family=\"monospace\" font-size=\"8.00\" text-anchor=\"start\" x=\"337\" y=\"-1203.6\">0x080484dd: </text>\n",
       "<text font-family=\"monospace\" font-size=\"8.00\" text-anchor=\"start\" x=\"405\" y=\"-1203.6\">mov</text>\n",
       "<text font-family=\"monospace\" font-size=\"8.00\" text-anchor=\"start\" x=\"431\" y=\"-1203.6\">dword ptr [esp + 4], 0x8048736</text>\n",
       "<text font-family=\"monospace\" font-size=\"8.00\" text-anchor=\"start\" x=\"337\" y=\"-1190.6\">0x080484e5: </text>\n",
       "<text font-family=\"monospace\" font-size=\"8.00\" text-anchor=\"start\" x=\"405\" y=\"-1190.6\">mov</text>\n",
       "<text font-family=\"monospace\" font-size=\"8.00\" text-anchor=\"start\" x=\"431\" y=\"-1190.6\">dword ptr [esp], 1</text>\n",
       "<text font-family=\"monospace\" font-size=\"8.00\" text-anchor=\"start\" x=\"337\" y=\"-1177.6\">0x080484ec: </text>\n",
       "<text font-family=\"monospace\" font-size=\"8.00\" text-anchor=\"start\" x=\"405\" y=\"-1177.6\">call</text>\n",
       "<text font-family=\"monospace\" font-size=\"8.00\" text-anchor=\"start\" x=\"431\" y=\"-1177.6\">0x8048380</text>\n",
       "<text fill=\"gray\" font-family=\"monospace\" font-size=\"8.00\" text-anchor=\"start\" x=\"593\" y=\"-1177.6\">; __printf_chk</text>\n",
       "</a>\n",
       "</g>\n",
       "</g>\n",
       "<!-- 50&#45;&gt;51 -->\n",
       "<g class=\"edge\" id=\"edge10\">\n",
       "<title>50-&gt;51</title>\n",
       "<path d=\"M427.52,-1277.47C437.09,-1268.22 447.92,-1257.76 458.29,-1247.74\" fill=\"none\" stroke=\"green\"/>\n",
       "<polygon fill=\"green\" points=\"460.98,-1250.01 465.74,-1240.54 456.12,-1244.97 460.98,-1250.01\" stroke=\"green\"/>\n",
       "</g>\n",
       "<!-- 55 -->\n",
       "<g class=\"node\" id=\"node9\">\n",
       "<title>55</title>\n",
       "<g id=\"a_node9\"><a xlink:href=\"/api/cfg/0x8048600\" xlink:title=\"Click to navigate to function 0x8048600\">\n",
       "<path d=\"M116,-1085.5C116,-1085.5 318,-1085.5 318,-1085.5 324,-1085.5 330,-1091.5 330,-1097.5 330,-1097.5 330,-1119.5 330,-1119.5 330,-1125.5 324,-1131.5 318,-1131.5 318,-1131.5 116,-1131.5 116,-1131.5 110,-1131.5 104,-1125.5 104,-1119.5 104,-1119.5 104,-1097.5 104,-1097.5 104,-1091.5 110,-1085.5 116,-1085.5\" fill=\"none\" stroke=\"black\"/>\n",
       "<text font-family=\"monospace\" font-size=\"8.00\" text-anchor=\"start\" x=\"137\" y=\"-1117.6\">0x8048438</text>\n",
       "<text font-family=\"monospace\" font-size=\"8.00\" text-anchor=\"start\" x=\"189\" y=\"-1117.6\">(0x80483a0)</text>\n",
       "<text font-family=\"monospace\" font-size=\"8.00\" font-weight=\"bold\" text-anchor=\"start\" x=\"251\" y=\"-1118.6\">main+0x98</text>\n",
       "<polyline fill=\"none\" points=\"104,-1108.5 330,-1108.5 \" stroke=\"black\"/>\n",
       "<text font-family=\"monospace\" font-size=\"8.00\" text-anchor=\"start\" x=\"115\" y=\"-1094.6\">0x08048438: </text>\n",
       "<text font-family=\"monospace\" font-size=\"8.00\" text-anchor=\"start\" x=\"183\" y=\"-1094.6\">call</text>\n",
       "<text font-family=\"monospace\" font-size=\"8.00\" text-anchor=\"start\" x=\"209\" y=\"-1094.6\">0x8048600</text>\n",
       "<text fill=\"gray\" font-family=\"monospace\" font-size=\"8.00\" text-anchor=\"start\" x=\"261\" y=\"-1094.6\">; spec_rand</text>\n",
       "</a>\n",
       "</g>\n",
       "</g>\n",
       "<!-- 85&#45;&gt;55 -->\n",
       "<g class=\"edge\" id=\"edge24\">\n",
       "<title>85-&gt;55</title>\n",
       "<path d=\"M217,-1174.79C217,-1164.42 217,-1152.65 217,-1141.98\" fill=\"none\" stroke=\"blue\" stroke-dasharray=\"5,2\"/>\n",
       "<polygon fill=\"blue\" points=\"220.5,-1141.78 217,-1131.78 213.5,-1141.78 220.5,-1141.78\" stroke=\"blue\"/>\n",
       "</g>\n",
       "<!-- 52 -->\n",
       "<g class=\"node\" id=\"node10\">\n",
       "<title>52</title>\n",
       "<g id=\"a_node10\"><a xlink:href=\"/api/cfg/0x8048380\" xlink:title=\"Click to navigate to function 0x8048380\">\n",
       "<path d=\"M12,-950.5C12,-950.5 340,-950.5 340,-950.5 346,-950.5 352,-956.5 352,-962.5 352,-962.5 352,-1036.5 352,-1036.5 352,-1042.5 346,-1048.5 340,-1048.5 340,-1048.5 12,-1048.5 12,-1048.5 6,-1048.5 0,-1042.5 0,-1036.5 0,-1036.5 0,-962.5 0,-962.5 0,-956.5 6,-950.5 12,-950.5\" fill=\"none\" stroke=\"black\"/>\n",
       "<text font-family=\"monospace\" font-size=\"8.00\" text-anchor=\"start\" x=\"96\" y=\"-1034.6\">0x804843d</text>\n",
       "<text font-family=\"monospace\" font-size=\"8.00\" text-anchor=\"start\" x=\"148\" y=\"-1034.6\">(0x80483a0)</text>\n",
       "<text font-family=\"monospace\" font-size=\"8.00\" font-weight=\"bold\" text-anchor=\"start\" x=\"210\" y=\"-1035.6\">main+0x9d</text>\n",
       "<polyline fill=\"none\" points=\"0,-1025.5 352,-1025.5 \" stroke=\"black\"/>\n",
       "<text font-family=\"monospace\" font-size=\"8.00\" text-anchor=\"start\" x=\"11\" y=\"-1011.6\">0x0804843d: </text>\n",
       "<text font-family=\"monospace\" font-size=\"8.00\" text-anchor=\"start\" x=\"79\" y=\"-1011.6\">add</text>\n",
       "<text font-family=\"monospace\" font-size=\"8.00\" text-anchor=\"start\" x=\"105\" y=\"-1011.6\">ebx, 1</text>\n",
       "<text font-family=\"monospace\" font-size=\"8.00\" text-anchor=\"start\" x=\"11\" y=\"-998.6\">0x08048440: </text>\n",
       "<text font-family=\"monospace\" font-size=\"8.00\" text-anchor=\"start\" x=\"79\" y=\"-998.6\">mov</text>\n",
       "<text font-family=\"monospace\" font-size=\"8.00\" text-anchor=\"start\" x=\"105\" y=\"-998.6\">dword ptr [esp + 4], 0x8048732</text>\n",
       "<text font-family=\"monospace\" font-size=\"8.00\" text-anchor=\"start\" x=\"11\" y=\"-985.6\">0x08048448: </text>\n",
       "<text font-family=\"monospace\" font-size=\"8.00\" text-anchor=\"start\" x=\"79\" y=\"-985.6\">mov</text>\n",
       "<text font-family=\"monospace\" font-size=\"8.00\" text-anchor=\"start\" x=\"105\" y=\"-985.6\">dword ptr [esp], 1</text>\n",
       "<text font-family=\"monospace\" font-size=\"8.00\" text-anchor=\"start\" x=\"11\" y=\"-972.6\">0x0804844f: </text>\n",
       "<text font-family=\"monospace\" font-size=\"8.00\" text-anchor=\"start\" x=\"79\" y=\"-972.6\">fstp</text>\n",
       "<text font-family=\"monospace\" font-size=\"8.00\" text-anchor=\"start\" x=\"105\" y=\"-972.6\">qword ptr [esp + 8]</text>\n",
       "<text font-family=\"monospace\" font-size=\"8.00\" text-anchor=\"start\" x=\"11\" y=\"-959.6\">0x08048453: </text>\n",
       "<text font-family=\"monospace\" font-size=\"8.00\" text-anchor=\"start\" x=\"79\" y=\"-959.6\">call</text>\n",
       "<text font-family=\"monospace\" font-size=\"8.00\" text-anchor=\"start\" x=\"105\" y=\"-959.6\">0x8048380</text>\n",
       "<text fill=\"gray\" font-family=\"monospace\" font-size=\"8.00\" text-anchor=\"start\" x=\"267\" y=\"-959.6\">; __printf_chk</text>\n",
       "</a>\n",
       "</g>\n",
       "</g>\n",
       "<!-- 55&#45;&gt;52 -->\n",
       "<g class=\"edge\" id=\"edge17\">\n",
       "<title>55-&gt;52</title>\n",
       "<path d=\"M208.5,-1085.33C205.44,-1077.34 201.83,-1067.91 198.15,-1058.3\" fill=\"none\" stroke=\"gray\" stroke-dasharray=\"1,5\"/>\n",
       "<polygon fill=\"gray\" points=\"201.3,-1056.76 194.46,-1048.67 194.77,-1059.26 201.3,-1056.76\" stroke=\"gray\"/>\n",
       "</g>\n",
       "<!-- 53 -->\n",
       "<g class=\"node\" id=\"node11\">\n",
       "<title>53</title>\n",
       "<path d=\"M218,-854.5C218,-854.5 376,-854.5 376,-854.5 382,-854.5 388,-860.5 388,-866.5 388,-866.5 388,-901.5 388,-901.5 388,-907.5 382,-913.5 376,-913.5 376,-913.5 218,-913.5 218,-913.5 212,-913.5 206,-907.5 206,-901.5 206,-901.5 206,-866.5 206,-866.5 206,-860.5 212,-854.5 218,-854.5\" fill=\"none\" stroke=\"black\"/>\n",
       "<text font-family=\"monospace\" font-size=\"8.00\" text-anchor=\"start\" x=\"217\" y=\"-899.6\">0x8048458</text>\n",
       "<text font-family=\"monospace\" font-size=\"8.00\" text-anchor=\"start\" x=\"269\" y=\"-899.6\">(0x80483a0)</text>\n",
       "<text font-family=\"monospace\" font-size=\"8.00\" font-weight=\"bold\" text-anchor=\"start\" x=\"331\" y=\"-900.6\">main+0xb8</text>\n",
       "<polyline fill=\"none\" points=\"206,-890.5 388,-890.5 \" stroke=\"black\"/>\n",
       "<text font-family=\"monospace\" font-size=\"8.00\" text-anchor=\"start\" x=\"227\" y=\"-877.1\">0x08048458: </text>\n",
       "<text font-family=\"monospace\" font-size=\"8.00\" text-anchor=\"start\" x=\"295\" y=\"-877.1\">cmp</text>\n",
       "<text font-family=\"monospace\" font-size=\"8.00\" text-anchor=\"start\" x=\"315\" y=\"-877.1\">ebx, esi</text>\n",
       "<text font-family=\"monospace\" font-size=\"8.00\" text-anchor=\"start\" x=\"227\" y=\"-864.1\">0x0804845a: </text>\n",
       "<text font-family=\"monospace\" font-size=\"8.00\" text-anchor=\"start\" x=\"295\" y=\"-864.1\">jne</text>\n",
       "<text font-family=\"monospace\" font-size=\"8.00\" text-anchor=\"start\" x=\"315\" y=\"-864.1\">0x8048438</text>\n",
       "</g>\n",
       "<!-- 52&#45;&gt;53 -->\n",
       "<g class=\"edge\" id=\"edge13\">\n",
       "<title>52-&gt;53</title>\n",
       "<path d=\"M227.31,-950.37C237.89,-940.45 248.85,-930.17 258.85,-920.78\" fill=\"none\" stroke=\"gray\" stroke-dasharray=\"1,5\"/>\n",
       "<polygon fill=\"gray\" points=\"261.4,-923.19 266.3,-913.8 256.61,-918.09 261.4,-923.19\" stroke=\"gray\"/>\n",
       "</g>\n",
       "<!-- 53&#45;&gt;55 -->\n",
       "<g class=\"edge\" id=\"edge15\">\n",
       "<title>53-&gt;55</title>\n",
       "<path d=\"M334.67,-913.6C345.23,-923.8 355.36,-936.22 361,-950 377.68,-990.72 385.57,-1012.5 361,-1049 351.95,-1062.44 339.23,-1072.79 325.05,-1080.77\" fill=\"none\" stroke=\"green\"/>\n",
       "<polygon fill=\"green\" points=\"323.32,-1077.72 316.05,-1085.43 326.54,-1083.94 323.32,-1077.72\" stroke=\"green\"/>\n",
       "</g>\n",
       "<!-- 54 -->\n",
       "<g class=\"node\" id=\"node12\">\n",
       "<title>54</title>\n",
       "<g id=\"a_node12\"><a xlink:href=\"/api/cfg/0x8048380\" xlink:title=\"Click to navigate to function 0x8048380\">\n",
       "<path d=\"M133,-732.5C133,-732.5 461,-732.5 461,-732.5 467,-732.5 473,-738.5 473,-744.5 473,-744.5 473,-805.5 473,-805.5 473,-811.5 467,-817.5 461,-817.5 461,-817.5 133,-817.5 133,-817.5 127,-817.5 121,-811.5 121,-805.5 121,-805.5 121,-744.5 121,-744.5 121,-738.5 127,-732.5 133,-732.5\" fill=\"none\" stroke=\"black\"/>\n",
       "<text font-family=\"monospace\" font-size=\"8.00\" text-anchor=\"start\" x=\"218\" y=\"-803.6\">0x804845c</text>\n",
       "<text font-family=\"monospace\" font-size=\"8.00\" text-anchor=\"start\" x=\"270\" y=\"-803.6\">(0x80483a0)</text>\n",
       "<text font-family=\"monospace\" font-size=\"8.00\" font-weight=\"bold\" text-anchor=\"start\" x=\"332\" y=\"-804.6\">main+0xbc</text>\n",
       "<polyline fill=\"none\" points=\"121,-794.5 473,-794.5 \" stroke=\"black\"/>\n",
       "<text font-family=\"monospace\" font-size=\"8.00\" text-anchor=\"start\" x=\"132\" y=\"-781.1\">0x0804845c: </text>\n",
       "<text font-family=\"monospace\" font-size=\"8.00\" text-anchor=\"start\" x=\"200\" y=\"-781.1\">mov</text>\n",
       "<text font-family=\"monospace\" font-size=\"8.00\" text-anchor=\"start\" x=\"226\" y=\"-781.1\">dword ptr [esp + 4], 0x8048736</text>\n",
       "<text font-family=\"monospace\" font-size=\"8.00\" text-anchor=\"start\" x=\"132\" y=\"-768.1\">0x08048464: </text>\n",
       "<text font-family=\"monospace\" font-size=\"8.00\" text-anchor=\"start\" x=\"200\" y=\"-768.1\">xor</text>\n",
       "<text font-family=\"monospace\" font-size=\"8.00\" text-anchor=\"start\" x=\"226\" y=\"-768.1\">ebx, ebx</text>\n",
       "<text font-family=\"monospace\" font-size=\"8.00\" text-anchor=\"start\" x=\"132\" y=\"-755.1\">0x08048466: </text>\n",
       "<text font-family=\"monospace\" font-size=\"8.00\" text-anchor=\"start\" x=\"200\" y=\"-755.1\">mov</text>\n",
       "<text font-family=\"monospace\" font-size=\"8.00\" text-anchor=\"start\" x=\"226\" y=\"-755.1\">dword ptr [esp], 1</text>\n",
       "<text font-family=\"monospace\" font-size=\"8.00\" text-anchor=\"start\" x=\"132\" y=\"-742.1\">0x0804846d: </text>\n",
       "<text font-family=\"monospace\" font-size=\"8.00\" text-anchor=\"start\" x=\"200\" y=\"-742.1\">call</text>\n",
       "<text font-family=\"monospace\" font-size=\"8.00\" text-anchor=\"start\" x=\"226\" y=\"-742.1\">0x8048380</text>\n",
       "<text fill=\"gray\" font-family=\"monospace\" font-size=\"8.00\" text-anchor=\"start\" x=\"388\" y=\"-742.1\">; __printf_chk</text>\n",
       "</a>\n",
       "</g>\n",
       "</g>\n",
       "<!-- 53&#45;&gt;54 -->\n",
       "<g class=\"edge\" id=\"edge14\">\n",
       "<title>53-&gt;54</title>\n",
       "<path d=\"M297,-854.33C297,-846.14 297,-836.96 297,-827.84\" fill=\"none\" stroke=\"red\"/>\n",
       "<polygon fill=\"red\" points=\"300.5,-827.63 297,-817.63 293.5,-827.63 300.5,-827.63\" stroke=\"red\"/>\n",
       "</g>\n",
       "<!-- 86 -->\n",
       "<g class=\"node\" id=\"node13\">\n",
       "<title>86</title>\n",
       "<path d=\"M218,-649.5C218,-649.5 376,-649.5 376,-649.5 382,-649.5 388,-655.5 388,-661.5 388,-661.5 388,-683.5 388,-683.5 388,-689.5 382,-695.5 376,-695.5 376,-695.5 218,-695.5 218,-695.5 212,-695.5 206,-689.5 206,-683.5 206,-683.5 206,-661.5 206,-661.5 206,-655.5 212,-649.5 218,-649.5\" fill=\"none\" stroke=\"black\"/>\n",
       "<text font-family=\"monospace\" font-size=\"8.00\" text-anchor=\"start\" x=\"217\" y=\"-681.6\">0x8048472</text>\n",
       "<text font-family=\"monospace\" font-size=\"8.00\" text-anchor=\"start\" x=\"269\" y=\"-681.6\">(0x80483a0)</text>\n",
       "<text font-family=\"monospace\" font-size=\"8.00\" font-weight=\"bold\" text-anchor=\"start\" x=\"331\" y=\"-682.6\">main+0xd2</text>\n",
       "<polyline fill=\"none\" points=\"206,-672.5 388,-672.5 \" stroke=\"black\"/>\n",
       "<text font-family=\"monospace\" font-size=\"8.00\" text-anchor=\"start\" x=\"225\" y=\"-658.6\">0x08048472: </text>\n",
       "<text font-family=\"monospace\" font-size=\"8.00\" text-anchor=\"start\" x=\"293\" y=\"-658.6\">lea</text>\n",
       "<text font-family=\"monospace\" font-size=\"8.00\" text-anchor=\"start\" x=\"313\" y=\"-658.6\">esi, [esi]</text>\n",
       "</g>\n",
       "<!-- 54&#45;&gt;86 -->\n",
       "<g class=\"edge\" id=\"edge16\">\n",
       "<title>54-&gt;86</title>\n",
       "<path d=\"M297,-732.25C297,-723.45 297,-714.3 297,-705.91\" fill=\"none\" stroke=\"gray\" stroke-dasharray=\"1,5\"/>\n",
       "<polygon fill=\"gray\" points=\"300.5,-705.77 297,-695.77 293.5,-705.77 300.5,-705.77\" stroke=\"gray\"/>\n",
       "</g>\n",
       "<!-- 58 -->\n",
       "<g class=\"node\" id=\"node14\">\n",
       "<title>58</title>\n",
       "<g id=\"a_node14\"><a xlink:href=\"/api/cfg/0x8048600\" xlink:title=\"Click to navigate to function 0x8048600\">\n",
       "<path d=\"M196,-566.5C196,-566.5 398,-566.5 398,-566.5 404,-566.5 410,-572.5 410,-578.5 410,-578.5 410,-600.5 410,-600.5 410,-606.5 404,-612.5 398,-612.5 398,-612.5 196,-612.5 196,-612.5 190,-612.5 184,-606.5 184,-600.5 184,-600.5 184,-578.5 184,-578.5 184,-572.5 190,-566.5 196,-566.5\" fill=\"none\" stroke=\"black\"/>\n",
       "<text font-family=\"monospace\" font-size=\"8.00\" text-anchor=\"start\" x=\"217\" y=\"-598.6\">0x8048478</text>\n",
       "<text font-family=\"monospace\" font-size=\"8.00\" text-anchor=\"start\" x=\"269\" y=\"-598.6\">(0x80483a0)</text>\n",
       "<text font-family=\"monospace\" font-size=\"8.00\" font-weight=\"bold\" text-anchor=\"start\" x=\"331\" y=\"-599.6\">main+0xd8</text>\n",
       "<polyline fill=\"none\" points=\"184,-589.5 410,-589.5 \" stroke=\"black\"/>\n",
       "<text font-family=\"monospace\" font-size=\"8.00\" text-anchor=\"start\" x=\"195\" y=\"-575.6\">0x08048478: </text>\n",
       "<text font-family=\"monospace\" font-size=\"8.00\" text-anchor=\"start\" x=\"263\" y=\"-575.6\">call</text>\n",
       "<text font-family=\"monospace\" font-size=\"8.00\" text-anchor=\"start\" x=\"289\" y=\"-575.6\">0x8048600</text>\n",
       "<text fill=\"gray\" font-family=\"monospace\" font-size=\"8.00\" text-anchor=\"start\" x=\"341\" y=\"-575.6\">; spec_rand</text>\n",
       "</a>\n",
       "</g>\n",
       "</g>\n",
       "<!-- 86&#45;&gt;58 -->\n",
       "<g class=\"edge\" id=\"edge25\">\n",
       "<title>86-&gt;58</title>\n",
       "<path d=\"M297,-649.37C297,-641.15 297,-631.66 297,-622.73\" fill=\"none\" stroke=\"blue\" stroke-dasharray=\"5,2\"/>\n",
       "<polygon fill=\"blue\" points=\"300.5,-622.61 297,-612.61 293.5,-622.61 300.5,-622.61\" stroke=\"blue\"/>\n",
       "</g>\n",
       "<!-- 56 -->\n",
       "<g class=\"node\" id=\"node15\">\n",
       "<title>56</title>\n",
       "<g id=\"a_node15\"><a xlink:href=\"/api/cfg/0x8048380\" xlink:title=\"Click to navigate to function 0x8048380\">\n",
       "<path d=\"M107,-327.5C107,-327.5 445,-327.5 445,-327.5 451,-327.5 457,-333.5 457,-339.5 457,-339.5 457,-517.5 457,-517.5 457,-523.5 451,-529.5 445,-529.5 445,-529.5 107,-529.5 107,-529.5 101,-529.5 95,-523.5 95,-517.5 95,-517.5 95,-339.5 95,-339.5 95,-333.5 101,-327.5 107,-327.5\" fill=\"none\" stroke=\"black\"/>\n",
       "<text font-family=\"monospace\" font-size=\"8.00\" text-anchor=\"start\" x=\"196\" y=\"-515.6\">0x804847d</text>\n",
       "<text font-family=\"monospace\" font-size=\"8.00\" text-anchor=\"start\" x=\"248\" y=\"-515.6\">(0x80483a0)</text>\n",
       "<text font-family=\"monospace\" font-size=\"8.00\" font-weight=\"bold\" text-anchor=\"start\" x=\"310\" y=\"-516.6\">main+0xdd</text>\n",
       "<polyline fill=\"none\" points=\"95,-506.5 457,-506.5 \" stroke=\"black\"/>\n",
       "<text font-family=\"monospace\" font-size=\"8.00\" text-anchor=\"start\" x=\"106\" y=\"-492.6\">0x0804847d: </text>\n",
       "<text font-family=\"monospace\" font-size=\"8.00\" text-anchor=\"start\" x=\"174\" y=\"-492.6\">add</text>\n",
       "<text font-family=\"monospace\" font-size=\"8.00\" text-anchor=\"start\" x=\"210\" y=\"-492.6\">ebx, 1</text>\n",
       "<text font-family=\"monospace\" font-size=\"8.00\" text-anchor=\"start\" x=\"106\" y=\"-479.6\">0x08048480: </text>\n",
       "<text font-family=\"monospace\" font-size=\"8.00\" text-anchor=\"start\" x=\"174\" y=\"-479.6\">mov</text>\n",
       "<text font-family=\"monospace\" font-size=\"8.00\" text-anchor=\"start\" x=\"210\" y=\"-479.6\">dword ptr [esp + 4], 0x804871f</text>\n",
       "<text font-family=\"monospace\" font-size=\"8.00\" text-anchor=\"start\" x=\"106\" y=\"-466.6\">0x08048488: </text>\n",
       "<text font-family=\"monospace\" font-size=\"8.00\" text-anchor=\"start\" x=\"174\" y=\"-466.6\">mov</text>\n",
       "<text font-family=\"monospace\" font-size=\"8.00\" text-anchor=\"start\" x=\"210\" y=\"-466.6\">dword ptr [esp], 1</text>\n",
       "<text font-family=\"monospace\" font-size=\"8.00\" text-anchor=\"start\" x=\"106\" y=\"-453.6\">0x0804848f: </text>\n",
       "<text font-family=\"monospace\" font-size=\"8.00\" text-anchor=\"start\" x=\"174\" y=\"-453.6\">fmul</text>\n",
       "<text font-family=\"monospace\" font-size=\"8.00\" text-anchor=\"start\" x=\"210\" y=\"-453.6\">dword ptr [0x8048754]</text>\n",
       "<text font-family=\"monospace\" font-size=\"8.00\" text-anchor=\"start\" x=\"106\" y=\"-440.6\">0x08048495: </text>\n",
       "<text font-family=\"monospace\" font-size=\"8.00\" text-anchor=\"start\" x=\"174\" y=\"-440.6\">fnstcw</text>\n",
       "<text font-family=\"monospace\" font-size=\"8.00\" text-anchor=\"start\" x=\"210\" y=\"-440.6\">word ptr [esp + 0x1e]</text>\n",
       "<text font-family=\"monospace\" font-size=\"8.00\" text-anchor=\"start\" x=\"106\" y=\"-427.6\">0x08048499: </text>\n",
       "<text font-family=\"monospace\" font-size=\"8.00\" text-anchor=\"start\" x=\"174\" y=\"-427.6\">movzx</text>\n",
       "<text font-family=\"monospace\" font-size=\"8.00\" text-anchor=\"start\" x=\"210\" y=\"-427.6\">eax, word ptr [esp + 0x1e]</text>\n",
       "<text font-family=\"monospace\" font-size=\"8.00\" text-anchor=\"start\" x=\"106\" y=\"-414.6\">0x0804849e: </text>\n",
       "<text font-family=\"monospace\" font-size=\"8.00\" text-anchor=\"start\" x=\"174\" y=\"-414.6\">fadd</text>\n",
       "<text font-family=\"monospace\" font-size=\"8.00\" text-anchor=\"start\" x=\"210\" y=\"-414.6\">dword ptr [0x8048758]</text>\n",
       "<text font-family=\"monospace\" font-size=\"8.00\" text-anchor=\"start\" x=\"106\" y=\"-401.6\">0x080484a4: </text>\n",
       "<text font-family=\"monospace\" font-size=\"8.00\" text-anchor=\"start\" x=\"174\" y=\"-401.6\">mov</text>\n",
       "<text font-family=\"monospace\" font-size=\"8.00\" text-anchor=\"start\" x=\"210\" y=\"-401.6\">ah, 0xc</text>\n",
       "<text font-family=\"monospace\" font-size=\"8.00\" text-anchor=\"start\" x=\"106\" y=\"-388.6\">0x080484a6: </text>\n",
       "<text font-family=\"monospace\" font-size=\"8.00\" text-anchor=\"start\" x=\"174\" y=\"-388.6\">mov</text>\n",
       "<text font-family=\"monospace\" font-size=\"8.00\" text-anchor=\"start\" x=\"210\" y=\"-388.6\">word ptr [esp + 0x1c], ax</text>\n",
       "<text font-family=\"monospace\" font-size=\"8.00\" text-anchor=\"start\" x=\"106\" y=\"-375.6\">0x080484ab: </text>\n",
       "<text font-family=\"monospace\" font-size=\"8.00\" text-anchor=\"start\" x=\"174\" y=\"-375.6\">fldcw</text>\n",
       "<text font-family=\"monospace\" font-size=\"8.00\" text-anchor=\"start\" x=\"210\" y=\"-375.6\">word ptr [esp + 0x1c]</text>\n",
       "<text font-family=\"monospace\" font-size=\"8.00\" text-anchor=\"start\" x=\"106\" y=\"-362.6\">0x080484af: </text>\n",
       "<text font-family=\"monospace\" font-size=\"8.00\" text-anchor=\"start\" x=\"174\" y=\"-362.6\">fistp</text>\n",
       "<text font-family=\"monospace\" font-size=\"8.00\" text-anchor=\"start\" x=\"210\" y=\"-362.6\">dword ptr [esp + 8]</text>\n",
       "<text font-family=\"monospace\" font-size=\"8.00\" text-anchor=\"start\" x=\"106\" y=\"-349.6\">0x080484b3: </text>\n",
       "<text font-family=\"monospace\" font-size=\"8.00\" text-anchor=\"start\" x=\"174\" y=\"-349.6\">fldcw</text>\n",
       "<text font-family=\"monospace\" font-size=\"8.00\" text-anchor=\"start\" x=\"210\" y=\"-349.6\">word ptr [esp + 0x1e]</text>\n",
       "<text font-family=\"monospace\" font-size=\"8.00\" text-anchor=\"start\" x=\"106\" y=\"-336.6\">0x080484b7: </text>\n",
       "<text font-family=\"monospace\" font-size=\"8.00\" text-anchor=\"start\" x=\"174\" y=\"-336.6\">call</text>\n",
       "<text font-family=\"monospace\" font-size=\"8.00\" text-anchor=\"start\" x=\"210\" y=\"-336.6\">0x8048380</text>\n",
       "<text fill=\"gray\" font-family=\"monospace\" font-size=\"8.00\" text-anchor=\"start\" x=\"372\" y=\"-336.6\">; __printf_chk</text>\n",
       "</a>\n",
       "</g>\n",
       "</g>\n",
       "<!-- 58&#45;&gt;56 -->\n",
       "<g class=\"edge\" id=\"edge21\">\n",
       "<title>58-&gt;56</title>\n",
       "<path d=\"M294.08,-566.39C293.07,-558.78 291.87,-549.66 290.57,-539.79\" fill=\"none\" stroke=\"gray\" stroke-dasharray=\"1,5\"/>\n",
       "<polygon fill=\"gray\" points=\"294.01,-539.15 289.23,-529.7 287.07,-540.07 294.01,-539.15\" stroke=\"gray\"/>\n",
       "</g>\n",
       "<!-- 57 -->\n",
       "<g class=\"node\" id=\"node16\">\n",
       "<title>57</title>\n",
       "<path d=\"M362,-231.5C362,-231.5 524,-231.5 524,-231.5 530,-231.5 536,-237.5 536,-243.5 536,-243.5 536,-278.5 536,-278.5 536,-284.5 530,-290.5 524,-290.5 524,-290.5 362,-290.5 362,-290.5 356,-290.5 350,-284.5 350,-278.5 350,-278.5 350,-243.5 350,-243.5 350,-237.5 356,-231.5 362,-231.5\" fill=\"none\" stroke=\"black\"/>\n",
       "<text font-family=\"monospace\" font-size=\"8.00\" text-anchor=\"start\" x=\"361\" y=\"-276.6\">0x80484bc</text>\n",
       "<text font-family=\"monospace\" font-size=\"8.00\" text-anchor=\"start\" x=\"413\" y=\"-276.6\">(0x80483a0)</text>\n",
       "<text font-family=\"monospace\" font-size=\"8.00\" font-weight=\"bold\" text-anchor=\"start\" x=\"475\" y=\"-277.6\">main+0x11c</text>\n",
       "<polyline fill=\"none\" points=\"350,-267.5 536,-267.5 \" stroke=\"black\"/>\n",
       "<text font-family=\"monospace\" font-size=\"8.00\" text-anchor=\"start\" x=\"373\" y=\"-254.1\">0x080484bc: </text>\n",
       "<text font-family=\"monospace\" font-size=\"8.00\" text-anchor=\"start\" x=\"441\" y=\"-254.1\">cmp</text>\n",
       "<text font-family=\"monospace\" font-size=\"8.00\" text-anchor=\"start\" x=\"461\" y=\"-254.1\">ebx, esi</text>\n",
       "<text font-family=\"monospace\" font-size=\"8.00\" text-anchor=\"start\" x=\"373\" y=\"-241.1\">0x080484be: </text>\n",
       "<text font-family=\"monospace\" font-size=\"8.00\" text-anchor=\"start\" x=\"441\" y=\"-241.1\">jne</text>\n",
       "<text font-family=\"monospace\" font-size=\"8.00\" text-anchor=\"start\" x=\"461\" y=\"-241.1\">0x8048478</text>\n",
       "</g>\n",
       "<!-- 56&#45;&gt;57 -->\n",
       "<g class=\"edge\" id=\"edge18\">\n",
       "<title>56-&gt;57</title>\n",
       "<path d=\"M377,-327.41C387.52,-316.99 397.65,-306.95 406.68,-297.99\" fill=\"none\" stroke=\"gray\" stroke-dasharray=\"1,5\"/>\n",
       "<polygon fill=\"gray\" points=\"409.36,-300.27 413.99,-290.75 404.43,-295.3 409.36,-300.27\" stroke=\"gray\"/>\n",
       "</g>\n",
       "<!-- 57&#45;&gt;58 -->\n",
       "<g class=\"edge\" id=\"edge19\">\n",
       "<title>57-&gt;58</title>\n",
       "<path d=\"M456.52,-290.59C479.27,-343.33 517.87,-457.15 466,-530 454.42,-546.26 438,-558.04 419.9,-566.57\" fill=\"none\" stroke=\"green\"/>\n",
       "<polygon fill=\"green\" points=\"418.07,-563.55 410.29,-570.74 420.86,-569.97 418.07,-563.55\" stroke=\"green\"/>\n",
       "</g>\n",
       "<!-- 84 -->\n",
       "<g class=\"node\" id=\"node17\">\n",
       "<title>84</title>\n",
       "<path d=\"M483,-148.5C483,-148.5 645,-148.5 645,-148.5 651,-148.5 657,-154.5 657,-160.5 657,-160.5 657,-182.5 657,-182.5 657,-188.5 651,-194.5 645,-194.5 645,-194.5 483,-194.5 483,-194.5 477,-194.5 471,-188.5 471,-182.5 471,-182.5 471,-160.5 471,-160.5 471,-154.5 477,-148.5 483,-148.5\" fill=\"none\" stroke=\"black\"/>\n",
       "<text font-family=\"monospace\" font-size=\"8.00\" text-anchor=\"start\" x=\"482\" y=\"-180.6\">0x80484c0</text>\n",
       "<text font-family=\"monospace\" font-size=\"8.00\" text-anchor=\"start\" x=\"534\" y=\"-180.6\">(0x80483a0)</text>\n",
       "<text font-family=\"monospace\" font-size=\"8.00\" font-weight=\"bold\" text-anchor=\"start\" x=\"596\" y=\"-181.6\">main+0x120</text>\n",
       "<polyline fill=\"none\" points=\"471,-171.5 657,-171.5 \" stroke=\"black\"/>\n",
       "<text font-family=\"monospace\" font-size=\"8.00\" text-anchor=\"start\" x=\"497\" y=\"-157.6\">0x080484c0: </text>\n",
       "<text font-family=\"monospace\" font-size=\"8.00\" text-anchor=\"start\" x=\"565\" y=\"-157.6\">xor</text>\n",
       "<text font-family=\"monospace\" font-size=\"8.00\" text-anchor=\"start\" x=\"585\" y=\"-157.6\">eax, eax</text>\n",
       "</g>\n",
       "<!-- 57&#45;&gt;84 -->\n",
       "<g class=\"edge\" id=\"edge20\">\n",
       "<title>57-&gt;84</title>\n",
       "<path d=\"M482.62,-231.35C496.32,-221.44 511.64,-210.36 525.27,-200.51\" fill=\"none\" stroke=\"red\"/>\n",
       "<polygon fill=\"red\" points=\"527.45,-203.25 533.51,-194.55 523.35,-197.58 527.45,-203.25\" stroke=\"red\"/>\n",
       "</g>\n",
       "<!-- 47 -->\n",
       "<g class=\"node\" id=\"node18\">\n",
       "<title>47</title>\n",
       "<path d=\"M557.5,-0.5C557.5,-0.5 732.5,-0.5 732.5,-0.5 738.5,-0.5 744.5,-6.5 744.5,-12.5 744.5,-12.5 744.5,-99.5 744.5,-99.5 744.5,-105.5 738.5,-111.5 732.5,-111.5 732.5,-111.5 557.5,-111.5 557.5,-111.5 551.5,-111.5 545.5,-105.5 545.5,-99.5 545.5,-99.5 545.5,-12.5 545.5,-12.5 545.5,-6.5 551.5,-0.5 557.5,-0.5\" fill=\"none\" stroke=\"black\"/>\n",
       "<text font-family=\"monospace\" font-size=\"8.00\" text-anchor=\"start\" x=\"563\" y=\"-97.6\">0x80484c2</text>\n",
       "<text font-family=\"monospace\" font-size=\"8.00\" text-anchor=\"start\" x=\"615\" y=\"-97.6\">(0x80483a0)</text>\n",
       "<text font-family=\"monospace\" font-size=\"8.00\" font-weight=\"bold\" text-anchor=\"start\" x=\"677\" y=\"-98.6\">main+0x122</text>\n",
       "<polyline fill=\"none\" points=\"545.5,-88.5 744.5,-88.5 \" stroke=\"black\"/>\n",
       "<text font-family=\"monospace\" font-size=\"8.00\" text-anchor=\"start\" x=\"557\" y=\"-75.1\">0x080484c2: </text>\n",
       "<text font-family=\"monospace\" font-size=\"8.00\" text-anchor=\"start\" x=\"625\" y=\"-75.1\">lea</text>\n",
       "<text font-family=\"monospace\" font-size=\"8.00\" text-anchor=\"start\" x=\"645\" y=\"-75.1\">esp, [ebp - 0xc]</text>\n",
       "<text font-family=\"monospace\" font-size=\"8.00\" text-anchor=\"start\" x=\"557\" y=\"-62.1\">0x080484c5: </text>\n",
       "<text font-family=\"monospace\" font-size=\"8.00\" text-anchor=\"start\" x=\"625\" y=\"-62.1\">pop</text>\n",
       "<text font-family=\"monospace\" font-size=\"8.00\" text-anchor=\"start\" x=\"645\" y=\"-62.1\">ebx</text>\n",
       "<text font-family=\"monospace\" font-size=\"8.00\" text-anchor=\"start\" x=\"557\" y=\"-49.1\">0x080484c6: </text>\n",
       "<text font-family=\"monospace\" font-size=\"8.00\" text-anchor=\"start\" x=\"625\" y=\"-49.1\">pop</text>\n",
       "<text font-family=\"monospace\" font-size=\"8.00\" text-anchor=\"start\" x=\"645\" y=\"-49.1\">esi</text>\n",
       "<text font-family=\"monospace\" font-size=\"8.00\" text-anchor=\"start\" x=\"557\" y=\"-36.1\">0x080484c7: </text>\n",
       "<text font-family=\"monospace\" font-size=\"8.00\" text-anchor=\"start\" x=\"625\" y=\"-36.1\">pop</text>\n",
       "<text font-family=\"monospace\" font-size=\"8.00\" text-anchor=\"start\" x=\"645\" y=\"-36.1\">edi</text>\n",
       "<text font-family=\"monospace\" font-size=\"8.00\" text-anchor=\"start\" x=\"557\" y=\"-23.1\">0x080484c8: </text>\n",
       "<text font-family=\"monospace\" font-size=\"8.00\" text-anchor=\"start\" x=\"625\" y=\"-23.1\">pop</text>\n",
       "<text font-family=\"monospace\" font-size=\"8.00\" text-anchor=\"start\" x=\"645\" y=\"-23.1\">ebp</text>\n",
       "<text font-family=\"monospace\" font-size=\"8.00\" text-anchor=\"start\" x=\"557\" y=\"-10.1\">0x080484c9: </text>\n",
       "<text font-family=\"monospace\" font-size=\"8.00\" text-anchor=\"start\" x=\"625\" y=\"-10.1\">ret</text>\n",
       "</g>\n",
       "<!-- 84&#45;&gt;47 -->\n",
       "<g class=\"edge\" id=\"edge23\">\n",
       "<title>84-&gt;47</title>\n",
       "<path d=\"M579.81,-148.35C585.77,-140 592.88,-130.03 600.18,-119.81\" fill=\"none\" stroke=\"blue\" stroke-dasharray=\"5,2\"/>\n",
       "<polygon fill=\"blue\" points=\"603.1,-121.74 606.06,-111.57 597.4,-117.68 603.1,-121.74\" stroke=\"blue\"/>\n",
       "</g>\n",
       "<!-- 46 -->\n",
       "<g class=\"node\" id=\"node20\">\n",
       "<title>46</title>\n",
       "<path d=\"M625,-1604.5C625,-1604.5 787,-1604.5 787,-1604.5 793,-1604.5 799,-1610.5 799,-1616.5 799,-1616.5 799,-1651.5 799,-1651.5 799,-1657.5 793,-1663.5 787,-1663.5 787,-1663.5 625,-1663.5 625,-1663.5 619,-1663.5 613,-1657.5 613,-1651.5 613,-1651.5 613,-1616.5 613,-1616.5 613,-1610.5 619,-1604.5 625,-1604.5\" fill=\"none\" stroke=\"black\"/>\n",
       "<text font-family=\"monospace\" font-size=\"8.00\" text-anchor=\"start\" x=\"624\" y=\"-1649.6\">0x80484d6</text>\n",
       "<text font-family=\"monospace\" font-size=\"8.00\" text-anchor=\"start\" x=\"676\" y=\"-1649.6\">(0x80483a0)</text>\n",
       "<text font-family=\"monospace\" font-size=\"8.00\" font-weight=\"bold\" text-anchor=\"start\" x=\"738\" y=\"-1650.6\">main+0x136</text>\n",
       "<polyline fill=\"none\" points=\"613,-1640.5 799,-1640.5 \" stroke=\"black\"/>\n",
       "<text font-family=\"monospace\" font-size=\"8.00\" text-anchor=\"start\" x=\"636\" y=\"-1627.1\">0x080484d6: </text>\n",
       "<text font-family=\"monospace\" font-size=\"8.00\" text-anchor=\"start\" x=\"704\" y=\"-1627.1\">mov</text>\n",
       "<text font-family=\"monospace\" font-size=\"8.00\" text-anchor=\"start\" x=\"724\" y=\"-1627.1\">eax, 1</text>\n",
       "<text font-family=\"monospace\" font-size=\"8.00\" text-anchor=\"start\" x=\"636\" y=\"-1614.1\">0x080484db: </text>\n",
       "<text font-family=\"monospace\" font-size=\"8.00\" text-anchor=\"start\" x=\"704\" y=\"-1614.1\">jmp</text>\n",
       "<text font-family=\"monospace\" font-size=\"8.00\" text-anchor=\"start\" x=\"724\" y=\"-1614.1\">0x80484c2</text>\n",
       "</g>\n",
       "<!-- 13&#45;&gt;46 -->\n",
       "<g class=\"edge\" id=\"edge3\">\n",
       "<title>13-&gt;46</title>\n",
       "<path d=\"M706,-1893.88C706,-1842 706,-1732.39 706,-1673.82\" fill=\"none\" stroke=\"gray\" stroke-dasharray=\"1,5\"/>\n",
       "<polygon fill=\"gray\" points=\"709.5,-1673.5 706,-1663.5 702.5,-1673.5 709.5,-1673.5\" stroke=\"gray\"/>\n",
       "</g>\n",
       "<!-- 46&#45;&gt;47 -->\n",
       "<g class=\"edge\" id=\"edge7\">\n",
       "<title>46-&gt;47</title>\n",
       "<path d=\"M706,-1604.44C706,-1561.11 706,-1476.16 706,-1404 706,-1404 706,-1404 706,-260 706,-212.17 690.27,-160.57 674.79,-121.37\" fill=\"none\" stroke=\"blue\"/>\n",
       "<polygon fill=\"blue\" points=\"677.87,-119.63 670.87,-111.68 671.38,-122.26 677.87,-119.63\" stroke=\"blue\"/>\n",
       "</g>\n",
       "<!-- 59 -->\n",
       "<g class=\"node\" id=\"node22\">\n",
       "<title>59</title>\n",
       "<path d=\"M463,-976.5C463,-976.5 625,-976.5 625,-976.5 631,-976.5 637,-982.5 637,-988.5 637,-988.5 637,-1010.5 637,-1010.5 637,-1016.5 631,-1022.5 625,-1022.5 625,-1022.5 463,-1022.5 463,-1022.5 457,-1022.5 451,-1016.5 451,-1010.5 451,-1010.5 451,-988.5 451,-988.5 451,-982.5 457,-976.5 463,-976.5\" fill=\"none\" stroke=\"black\"/>\n",
       "<text font-family=\"monospace\" font-size=\"8.00\" text-anchor=\"start\" x=\"462\" y=\"-1008.6\">0x80484f1</text>\n",
       "<text font-family=\"monospace\" font-size=\"8.00\" text-anchor=\"start\" x=\"514\" y=\"-1008.6\">(0x80483a0)</text>\n",
       "<text font-family=\"monospace\" font-size=\"8.00\" font-weight=\"bold\" text-anchor=\"start\" x=\"576\" y=\"-1009.6\">main+0x151</text>\n",
       "<polyline fill=\"none\" points=\"451,-999.5 637,-999.5 \" stroke=\"black\"/>\n",
       "<text font-family=\"monospace\" font-size=\"8.00\" text-anchor=\"start\" x=\"474\" y=\"-985.6\">0x080484f1: </text>\n",
       "<text font-family=\"monospace\" font-size=\"8.00\" text-anchor=\"start\" x=\"542\" y=\"-985.6\">jmp</text>\n",
       "<text font-family=\"monospace\" font-size=\"8.00\" text-anchor=\"start\" x=\"562\" y=\"-985.6\">0x80484c0</text>\n",
       "</g>\n",
       "<!-- 51&#45;&gt;59 -->\n",
       "<g class=\"edge\" id=\"edge12\">\n",
       "<title>51-&gt;59</title>\n",
       "<path d=\"M509.32,-1168.14C517.21,-1129.99 529.67,-1069.76 537.31,-1032.83\" fill=\"none\" stroke=\"gray\" stroke-dasharray=\"1,5\"/>\n",
       "<polygon fill=\"gray\" points=\"540.83,-1033.12 539.42,-1022.62 533.97,-1031.7 540.83,-1033.12\" stroke=\"gray\"/>\n",
       "</g>\n",
       "<!-- 59&#45;&gt;84 -->\n",
       "<g class=\"edge\" id=\"edge22\">\n",
       "<title>59-&gt;84</title>\n",
       "<path d=\"M547.3,-976.45C552.98,-936.56 564,-849.69 564,-776 564,-776 564,-776 564,-427.5 564,-347.45 564,-253.26 564,-204.84\" fill=\"none\" stroke=\"blue\"/>\n",
       "<polygon fill=\"blue\" points=\"567.5,-204.67 564,-194.67 560.5,-204.67 567.5,-204.67\" stroke=\"blue\"/>\n",
       "</g>\n",
       "</g>\n",
       "</svg>"
      ],
      "text/plain": [
       "<IPython.core.display.SVG object>"
      ]
     },
     "metadata": {},
     "output_type": "display_data"
    }
   ],
   "source": [
    "from IPython.core.display import SVG\n",
    "display(SVG('test.svg'))"
   ]
  },
  {
   "cell_type": "markdown",
   "metadata": {},
   "source": [
    "There are also many online tools available that convert `.svg` to other format files. Besides, if you have installed `inkscape`, you can use:"
   ]
  },
  {
   "cell_type": "code",
   "execution_count": 8,
   "metadata": {
    "ExecuteTime": {
     "end_time": "2020-07-26T12:02:53.126717Z",
     "start_time": "2020-07-26T12:02:53.000134Z"
    }
   },
   "outputs": [
    {
     "name": "stdout",
     "output_type": "stream",
     "text": [
      "/bin/bash: inkscape: command not found\r\n"
     ]
    }
   ],
   "source": [
    "!inkscape test.svg --export-area-drawing --without-gui --export-pdf=test.pdf"
   ]
  },
  {
   "cell_type": "markdown",
   "metadata": {},
   "source": [
    "And now, you can open [test.pdf](test.pdf) directly to view the *control flow graph*. It is what $\\TeX$ exactly do when asked to insert a `.svg` image into an article by `\\includegraphics{}`. It is to say that, if `inkscape`and $\\TeX$ installed properly, this notebook can be converted to a pretty pdf by `nbconvert`, which is built-in Jupyter notebook server. "
   ]
  },
  {
   "cell_type": "markdown",
   "metadata": {
    "pycharm": {
     "name": "#%% md\n"
    }
   },
   "source": [
    "### Traversal a large folder to generate all CFGs\n",
    "\n",
    "We still use `m2s-bench-spec2006` as an example.\n",
    "\n",
    "Assume that we need to analyze all binary files in this folder. Wrapping `cfg-explorer` as a function makes the task more flexible inside a Python script.\n",
    "\n",
    "First, get all potential binary files for analysis:"
   ]
  },
  {
   "cell_type": "code",
   "execution_count": 9,
   "metadata": {
    "ExecuteTime": {
     "end_time": "2020-07-26T12:02:59.503676Z",
     "start_time": "2020-07-26T12:02:59.481517Z"
    }
   },
   "outputs": [
    {
     "data": {
      "text/plain": [
       "['../../m2s-bench-spec2006/401.bzip2/bzip2_base.i386',\n",
       " '../../m2s-bench-spec2006/403.gcc/gcc_base.i386',\n",
       " '../../m2s-bench-spec2006/410.bwaves/bwaves_base.i386',\n",
       " '../../m2s-bench-spec2006/416.gamess/gamess_base.i386',\n",
       " '../../m2s-bench-spec2006/429.mcf/mcf_base.i386',\n",
       " '../../m2s-bench-spec2006/433.milc/milc_base.i386',\n",
       " '../../m2s-bench-spec2006/434.zeusmp/zeusmp_base.i386',\n",
       " '../../m2s-bench-spec2006/435.gromacs/gromacs_base.i386',\n",
       " '../../m2s-bench-spec2006/436.cactusADM/cactusADM_base.i386',\n",
       " '../../m2s-bench-spec2006/437.leslie3d/leslie3d_base.i386',\n",
       " '../../m2s-bench-spec2006/444.namd/namd_base.i386',\n",
       " '../../m2s-bench-spec2006/445.gobmk/gobmk_base.i386',\n",
       " '../../m2s-bench-spec2006/447.dealII/dealII_base.i386',\n",
       " '../../m2s-bench-spec2006/450.soplex/soplex_base.i386',\n",
       " '../../m2s-bench-spec2006/453.povray/povray_base.i386',\n",
       " '../../m2s-bench-spec2006/454.calculix/calculix_base.i386',\n",
       " '../../m2s-bench-spec2006/456.hmmer/hmmer_base.i386',\n",
       " '../../m2s-bench-spec2006/458.sjeng/sjeng_base.i386',\n",
       " '../../m2s-bench-spec2006/459.GemsFDTD/GemsFDTD_base.i386',\n",
       " '../../m2s-bench-spec2006/462.libquantum/libquantum_base.i386',\n",
       " '../../m2s-bench-spec2006/464.h264ref/h264ref_base.i386',\n",
       " '../../m2s-bench-spec2006/465.tonto/tonto_base.i386',\n",
       " '../../m2s-bench-spec2006/470.lbm/lbm_base.i386',\n",
       " '../../m2s-bench-spec2006/471.omnetpp/omnetpp_base.i386',\n",
       " '../../m2s-bench-spec2006/473.astar/astar_base.i386',\n",
       " '../../m2s-bench-spec2006/481.wrf/wrf_base.i386',\n",
       " '../../m2s-bench-spec2006/482.sphinx3/sphinx3_base.i386',\n",
       " '../../m2s-bench-spec2006/483.xalancbmk/xalancbmk_base.i386',\n",
       " '../../m2s-bench-spec2006/998.specrand/specrand_base.i386',\n",
       " '../../m2s-bench-spec2006/999.specrand/specrand_base.i386']"
      ]
     },
     "execution_count": 9,
     "metadata": {},
     "output_type": "execute_result"
    }
   ],
   "source": [
    "from glob import glob\n",
    "progs = sorted(glob('../../m2s-bench-spec2006/*/*.i386'))\n",
    "progs"
   ]
  },
  {
   "cell_type": "code",
   "execution_count": 10,
   "metadata": {
    "ExecuteTime": {
     "end_time": "2020-07-26T12:03:01.684877Z",
     "start_time": "2020-07-26T12:03:01.680341Z"
    }
   },
   "outputs": [],
   "source": [
    "# create a directory to store the outputs\n",
    "out_dir = './output'\n",
    "if not os.path.exists(out_dir):\n",
    "    os.mkdir(out_dir)"
   ]
  },
  {
   "cell_type": "markdown",
   "metadata": {
    "pycharm": {
     "name": "#%% md\n"
    }
   },
   "source": [
    "Then, we can simply call `cfg_explore` function inside loops. Keep it alone, we just need to wait for generating all '.svg' files.\n",
    "\n",
    "**Note**: it might take a extremely long time. Be patient."
   ]
  },
  {
   "cell_type": "code",
   "execution_count": 11,
   "metadata": {
    "ExecuteTime": {
     "end_time": "2020-07-26T12:03:07.001492Z",
     "start_time": "2020-07-26T12:03:06.984821Z"
    },
    "scrolled": false
   },
   "outputs": [
    {
     "name": "stdout",
     "output_type": "stream",
     "text": [
      "start analysis of: 401.bzip2\n",
      "start analysis of: 403.gcc\n",
      "start analysis of: 410.bwaves\n",
      "start analysis of: 416.gamess\n",
      "start analysis of: 429.mcf\n",
      "start analysis of: 433.milc\n",
      "start analysis of: 434.zeusmp\n",
      "start analysis of: 435.gromacs\n",
      "start analysis of: 436.cactusADM\n",
      "start analysis of: 437.leslie3d\n",
      "start analysis of: 444.namd\n",
      "start analysis of: 445.gobmk\n",
      "start analysis of: 447.dealII\n",
      "start analysis of: 450.soplex\n",
      "start analysis of: 453.povray\n",
      "start analysis of: 454.calculix\n",
      "start analysis of: 456.hmmer\n",
      "start analysis of: 458.sjeng\n",
      "start analysis of: 459.GemsFDTD\n",
      "start analysis of: 462.libquantum\n",
      "start analysis of: 464.h264ref\n",
      "start analysis of: 465.tonto\n",
      "start analysis of: 470.lbm\n",
      "start analysis of: 471.omnetpp\n",
      "start analysis of: 473.astar\n",
      "start analysis of: 481.wrf\n",
      "start analysis of: 482.sphinx3\n",
      "start analysis of: 483.xalancbmk\n",
      "start analysis of: 998.specrand\n",
      "start analysis of: 999.specrand\n"
     ]
    }
   ],
   "source": [
    "for p in progs:\n",
    "    name = p.split('/')[3]\n",
    "    print('start analysis of:',name)\n",
    "    output_file = os.path.join(out_dir, name + '.svg')\n",
    "    if not os.path.exists(output_file):\n",
    "        cfg_explore(binary=p,output=output_file)"
   ]
  },
  {
   "cell_type": "markdown",
   "metadata": {
    "pycharm": {
     "name": "#%% md\n"
    }
   },
   "source": [
    "Now, you can view all outputs in `out_dir`.\n",
    "\n"
   ]
  }
 ],
 "metadata": {
  "jupytext": {
   "formats": "ipynb,py:light"
  },
  "kernelspec": {
   "display_name": "Python 3",
   "language": "python",
   "name": "python3"
  },
  "language_info": {
   "codemirror_mode": {
    "name": "ipython",
    "version": 3
   },
   "file_extension": ".py",
   "mimetype": "text/x-python",
   "name": "python",
   "nbconvert_exporter": "python",
   "pygments_lexer": "ipython3",
   "version": "3.7.7"
  },
  "latex_envs": {
   "LaTeX_envs_menu_present": true,
   "autoclose": false,
   "autocomplete": true,
   "bibliofile": "biblio.bib",
   "cite_by": "apalike",
   "current_citInitial": 1,
   "eqLabelWithNumbers": true,
   "eqNumInitial": 1,
   "hotkeys": {
    "equation": "Ctrl-E",
    "itemize": "Ctrl-I"
   },
   "labels_anchors": false,
   "latex_user_defs": false,
   "report_style_numbering": false,
   "user_envs_cfg": false
  },
  "pycharm": {
   "stem_cell": {
    "cell_type": "raw",
    "metadata": {
     "collapsed": false
    },
    "source": []
   }
  },
  "toc": {
   "base_numbering": 1,
   "nav_menu": {},
   "number_sections": true,
   "sideBar": true,
   "skip_h1_title": false,
   "title_cell": "Table of Contents",
   "title_sidebar": "Contents",
   "toc_cell": false,
   "toc_position": {},
   "toc_section_display": true,
   "toc_window_display": true
  },
  "varInspector": {
   "cols": {
    "lenName": 16,
    "lenType": 16,
    "lenVar": 40
   },
   "kernels_config": {
    "python": {
     "delete_cmd_postfix": "",
     "delete_cmd_prefix": "del ",
     "library": "var_list.py",
     "varRefreshCmd": "print(var_dic_list())"
    },
    "r": {
     "delete_cmd_postfix": ") ",
     "delete_cmd_prefix": "rm(",
     "library": "var_list.r",
     "varRefreshCmd": "cat(var_dic_list()) "
    }
   },
   "types_to_exclude": [
    "module",
    "function",
    "builtin_function_or_method",
    "instance",
    "_Feature"
   ],
   "window_display": false
  }
 },
 "nbformat": 4,
 "nbformat_minor": 4
}
