{
 "cells": [
  {
   "cell_type": "markdown",
   "metadata": {},
   "source": [
    "# Demo for functional usage of CFG-explorer\n",
    "\n",
    "Now, `cfg-explorer` can not only be used as a command line tool. We can also call it within a Python program.\n",
    "\n",
    "## Download Spec CPU Benchmark 2006\n",
    "\n",
    "Save the suite outside our current repository:\n",
    "\n",
    "```\n",
    "cd ..\n",
    "git clone https://github.com/Multi2Sim/m2s-bench-spec2006\n",
    "```\n",
    "\n",
    "Every `.i386` file is a binary file for testing."
   ]
  },
  {
   "cell_type": "code",
   "execution_count": 1,
   "metadata": {
    "ExecuteTime": {
     "end_time": "2020-07-25T07:17:13.657585Z",
     "start_time": "2020-07-25T07:17:13.653100Z"
    }
   },
   "outputs": [],
   "source": [
    "import sys"
   ]
  },
  {
   "cell_type": "code",
   "execution_count": 2,
   "metadata": {
    "ExecuteTime": {
     "end_time": "2020-07-25T07:17:13.665192Z",
     "start_time": "2020-07-25T07:17:13.660428Z"
    }
   },
   "outputs": [],
   "source": [
    "sys.path.insert(0,'/home/wolixinyi/cfg-explorer/')"
   ]
  },
  {
   "cell_type": "code",
   "execution_count": 3,
   "metadata": {
    "ExecuteTime": {
     "end_time": "2020-07-25T07:17:13.690071Z",
     "start_time": "2020-07-25T07:17:13.667702Z"
    }
   },
   "outputs": [
    {
     "data": {
      "text/plain": [
       "['/home/wolixinyi/cfg-explorer/',\n",
       " '/home/wolixinyi/cfg-explorer/examples',\n",
       " '/home/wolixinyi/anaconda3/envs/angr/lib/python37.zip',\n",
       " '/home/wolixinyi/anaconda3/envs/angr/lib/python3.7',\n",
       " '/home/wolixinyi/anaconda3/envs/angr/lib/python3.7/lib-dynload',\n",
       " '',\n",
       " '/home/wolixinyi/anaconda3/envs/angr/lib/python3.7/site-packages',\n",
       " '/home/wolixinyi/anaconda3/envs/angr/lib/python3.7/site-packages/IPython/extensions',\n",
       " '/home/wolixinyi/.ipython']"
      ]
     },
     "execution_count": 3,
     "metadata": {},
     "output_type": "execute_result"
    }
   ],
   "source": [
    "sys.path"
   ]
  },
  {
   "cell_type": "code",
   "execution_count": 4,
   "metadata": {
    "ExecuteTime": {
     "end_time": "2020-07-25T07:17:15.411048Z",
     "start_time": "2020-07-25T07:17:13.693149Z"
    }
   },
   "outputs": [],
   "source": [
    "from cfgexplorer import cfg_explore"
   ]
  },
  {
   "cell_type": "code",
   "execution_count": null,
   "metadata": {
    "ExecuteTime": {
     "start_time": "2020-07-25T07:17:13.644Z"
    }
   },
   "outputs": [
    {
     "name": "stderr",
     "output_type": "stream",
     "text": [
      "WARNING | 2020-07-25 07:17:15,525 | \u001b[34mangr.analyses.cfg.cfg_fast\u001b[0m | \u001b[34m\"collect_data_references\" is deprecated and will be removed soon. Please use \"data_references\" instead\u001b[0m\n",
      "100% |###################################| Elapsed Time: 0:00:00 Time:  0:00:00\n"
     ]
    },
    {
     "name": "stdout",
     "output_type": "stream",
     "text": [
      " * Serving Flask app \"cfgexplorer.explorer\" (lazy loading)\n",
      " * Environment: production\n",
      "\u001b[31m   WARNING: This is a development server. Do not use it in a production deployment.\u001b[0m\n",
      "\u001b[2m   Use a production WSGI server instead.\u001b[0m\n",
      " * Debug mode: on\n"
     ]
    },
    {
     "name": "stderr",
     "output_type": "stream",
     "text": [
      "INFO    | 2020-07-25 07:17:15,714 | \u001b[33mwerkzeug\u001b[0m | \u001b[33m * Running on http://127.0.0.1:5050/ (Press CTRL+C to quit)\u001b[0m\n",
      "INFO    | 2020-07-25 07:17:17,770 | \u001b[33mwerkzeug\u001b[0m | \u001b[33m127.0.0.1 - - [25/Jul/2020 07:17:17] \"\u001b[37mGET / HTTP/1.1\u001b[0m\" 200 -\u001b[0m\n",
      "INFO    | 2020-07-25 07:17:18,007 | \u001b[33mwerkzeug\u001b[0m | \u001b[33m127.0.0.1 - - [25/Jul/2020 07:17:18] \"\u001b[37mGET /api/cfg/0x80483a0 HTTP/1.1\u001b[0m\" 200 -\u001b[0m\n"
     ]
    }
   ],
   "source": [
    "cfg_explore(binary='../../m2s-bench-spec2006/999.specrand/specrand_base.i386')"
   ]
  },
  {
   "cell_type": "code",
   "execution_count": null,
   "metadata": {},
   "outputs": [],
   "source": []
  }
 ],
 "metadata": {
  "kernelspec": {
   "display_name": "Python 3",
   "language": "python",
   "name": "python3"
  },
  "language_info": {
   "codemirror_mode": {
    "name": "ipython",
    "version": 3
   },
   "file_extension": ".py",
   "mimetype": "text/x-python",
   "name": "python",
   "nbconvert_exporter": "python",
   "pygments_lexer": "ipython3",
   "version": "3.7.7"
  },
  "toc": {
   "base_numbering": 1,
   "nav_menu": {},
   "number_sections": true,
   "sideBar": true,
   "skip_h1_title": false,
   "title_cell": "Table of Contents",
   "title_sidebar": "Contents",
   "toc_cell": false,
   "toc_position": {},
   "toc_section_display": true,
   "toc_window_display": false
  },
  "varInspector": {
   "cols": {
    "lenName": 16,
    "lenType": 16,
    "lenVar": 40
   },
   "kernels_config": {
    "python": {
     "delete_cmd_postfix": "",
     "delete_cmd_prefix": "del ",
     "library": "var_list.py",
     "varRefreshCmd": "print(var_dic_list())"
    },
    "r": {
     "delete_cmd_postfix": ") ",
     "delete_cmd_prefix": "rm(",
     "library": "var_list.r",
     "varRefreshCmd": "cat(var_dic_list()) "
    }
   },
   "types_to_exclude": [
    "module",
    "function",
    "builtin_function_or_method",
    "instance",
    "_Feature"
   ],
   "window_display": false
  }
 },
 "nbformat": 4,
 "nbformat_minor": 4
}
